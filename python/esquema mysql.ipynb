-- MySQL Workbench Forward Engineering

SET @OLD_UNIQUE_CHECKS=@@UNIQUE_CHECKS, UNIQUE_CHECKS=0;
SET @OLD_FOREIGN_KEY_CHECKS=@@FOREIGN_KEY_CHECKS, FOREIGN_KEY_CHECKS=0;
SET @OLD_SQL_MODE=@@SQL_MODE, SQL_MODE='ONLY_FULL_GROUP_BY,STRICT_TRANS_TABLES,NO_ZERO_IN_DATE,NO_ZERO_DATE,ERROR_FOR_DIVISION_BY_ZERO,NO_ENGINE_SUBSTITUTION';

-- -----------------------------------------------------
-- Schema mydb
-- -----------------------------------------------------
-- -----------------------------------------------------
-- Schema productos_lg
-- -----------------------------------------------------

-- -----------------------------------------------------
-- Schema productos_lg
-- -----------------------------------------------------
CREATE SCHEMA IF NOT EXISTS `productos_lg` DEFAULT CHARACTER SET utf8mb4 COLLATE utf8mb4_0900_ai_ci ;
USE `productos_lg` ;

-- -----------------------------------------------------
-- Table `productos_lg`.`grouped_tv`
-- -----------------------------------------------------
CREATE TABLE IF NOT EXISTS `productos_lg`.`grouped_tv` (
  `brand` VARCHAR(45) NULL DEFAULT NULL,
  `selling_price` DOUBLE NULL DEFAULT NULL,
  `original_price` DOUBLE NULL DEFAULT NULL,
  `rating` DOUBLE NULL DEFAULT NULL,
  `count` INT NULL DEFAULT NULL,
  `brand_indice` INT NOT NULL,
  PRIMARY KEY (`brand_indice`))
ENGINE = InnoDB
DEFAULT CHARACTER SET = utf8mb4
COLLATE = utf8mb4_0900_ai_ci;


-- -----------------------------------------------------
-- Table `productos_lg`.`lg`
-- -----------------------------------------------------
CREATE TABLE IF NOT EXISTS `productos_lg`.`lg` (
  `lg_indice` INT NOT NULL,
  `lg_id` VARCHAR(45) NULL DEFAULT NULL,
  `lg_nombre` VARCHAR(70) NULL DEFAULT NULL,
  `lg_precio` DOUBLE NULL DEFAULT NULL,
  `lg_precio_outlet` DOUBLE NULL DEFAULT NULL,
  `lg_descuento` DOUBLE NULL DEFAULT NULL,
  `id` VARCHAR(45) NULL DEFAULT NULL,
  PRIMARY KEY (`lg_indice`))
ENGINE = InnoDB
DEFAULT CHARACTER SET = utf8mb4
COLLATE = utf8mb4_0900_ai_ci;


-- -----------------------------------------------------
-- Table `productos_lg`.`mielectro`
-- -----------------------------------------------------
CREATE TABLE IF NOT EXISTS `productos_lg`.`mielectro` (
  `mie_indice` INT NOT NULL,
  `brand_indice` INT NOT NULL,
  `mie_nombre` VARCHAR(160) NULL DEFAULT NULL,
  `mie_precios` DOUBLE NULL DEFAULT NULL,
  `mie_precio_rebajado` DOUBLE NULL DEFAULT NULL,
  `mie_descuento` INT NULL DEFAULT NULL,
  `lg_indice` INT NOT NULL,
  PRIMARY KEY (`mie_indice`),
  INDEX `fk_mielectro_lg_idx` (`lg_indice` ASC) VISIBLE,
  INDEX `fk_mielectro_grouped_tv1_idx` (`brand_indice` ASC) VISIBLE,
  CONSTRAINT `fk_mielectro_grouped_tv1`
    FOREIGN KEY (`brand_indice`)
    REFERENCES `productos_lg`.`grouped_tv` (`brand_indice`),
  CONSTRAINT `fk_mielectro_lg`
    FOREIGN KEY (`lg_indice`)
    REFERENCES `productos_lg`.`lg` (`lg_indice`))
ENGINE = InnoDB
DEFAULT CHARACTER SET = utf8mb4
COLLATE = utf8mb4_0900_ai_ci;


SET SQL_MODE=@OLD_SQL_MODE;
SET FOREIGN_KEY_CHECKS=@OLD_FOREIGN_KEY_CHECKS;
SET UNIQUE_CHECKS=@OLD_UNIQUE_CHECKS;