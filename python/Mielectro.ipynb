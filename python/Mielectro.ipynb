{
 "cells": [
  {
   "cell_type": "markdown",
   "id": "ddd09ced",
   "metadata": {},
   "source": [
    "# SCRAPING DE MIELECTRO"
   ]
  },
  {
   "cell_type": "markdown",
   "id": "220b3eb2",
   "metadata": {},
   "source": [
    "Realizado por Lidia Viñuales"
   ]
  },
  {
   "cell_type": "code",
   "execution_count": 20,
   "id": "8a901d6c",
   "metadata": {},
   "outputs": [],
   "source": [
    "import pandas as pd\n",
    "from selenium.webdriver.chrome.options import Options\n",
    "from webdriver_manager.chrome import ChromeDriverManager\n",
    "import re\n",
    "import numpy as np\n",
    "import math\n",
    "import re"
   ]
  },
  {
   "cell_type": "code",
   "execution_count": 2,
   "id": "c6aa5c9e",
   "metadata": {},
   "outputs": [],
   "source": [
    "#driver configuration\n",
    "opciones=Options()\n",
    "\n",
    "opciones.add_experimental_option('excludeSwitches', ['enable-automation'])\n",
    "opciones.add_experimental_option('useAutomationExtension', False)\n",
    "opciones.headless=False    # si True, no aperece la ventana (headless=no visible)\n",
    "opciones.add_argument('--start-maximized')         # comienza maximizado\n",
    "#opciones.add_argument('user-data-dir=selenium')    # mantiene las cookies\n",
    "#opciones.add_extension('driver_folder/adblock.crx')       # adblocker\n",
    "opciones.add_argument('--incognito')"
   ]
  },
  {
   "cell_type": "code",
   "execution_count": 3,
   "id": "f8d43222",
   "metadata": {},
   "outputs": [],
   "source": [
    "from selenium import webdriver\n",
    "from selenium.webdriver.common.by import By\n",
    "\n",
    "PATH = 'driver/chromedriver.exe'\n",
    "\n",
    "driver = webdriver.Chrome()\n",
    "driver.get('https://www.google.es')"
   ]
  },
  {
   "cell_type": "code",
   "execution_count": 4,
   "id": "2c816fa6",
   "metadata": {},
   "outputs": [],
   "source": [
    "url='https://www.mielectro.es/'"
   ]
  },
  {
   "cell_type": "code",
   "execution_count": 6,
   "id": "5d310630",
   "metadata": {},
   "outputs": [],
   "source": [
    "driver.get(url)"
   ]
  },
  {
   "cell_type": "markdown",
   "id": "70fd9625",
   "metadata": {},
   "source": [
    "**Rechazo las coockies:**"
   ]
  },
  {
   "cell_type": "code",
   "execution_count": 7,
   "id": "c254af14",
   "metadata": {},
   "outputs": [],
   "source": [
    "driver.find_element(By.XPATH, '//*[@id=\"cookieRechazar\"]').click()"
   ]
  },
  {
   "cell_type": "markdown",
   "id": "e291864d",
   "metadata": {},
   "source": [
    "**Una vez escrapeada la página web de LG vamos a escrapear los precios de los mismos productos en ECI para poder compararlos:**"
   ]
  },
  {
   "cell_type": "markdown",
   "id": "9ab22244",
   "metadata": {},
   "source": [
    "**Para ello vamos a coger el lg_id (sin las letras a partir del punto) de cada producto y lo vamos a buscar manualmente en Mi Electro.**\n",
    "\n",
    "**En un futuro se podría automatizar esta búsqueda según el ID de cada producto.**\n",
    "\n",
    "**Creo una lista vacía a la que iré incorporando los precios de cada producto:**"
   ]
  },
  {
   "cell_type": "code",
   "execution_count": 28,
   "id": "c615a95f",
   "metadata": {},
   "outputs": [],
   "source": [
    "mie_precios=[]"
   ]
  },
  {
   "cell_type": "markdown",
   "id": "b3bc22b0",
   "metadata": {},
   "source": [
    "**Creo una lista vacía a la que iré incorporando la descripción en Media Markt de cada producto:**"
   ]
  },
  {
   "cell_type": "code",
   "execution_count": 30,
   "id": "8b148e5e",
   "metadata": {},
   "outputs": [],
   "source": [
    "mie_nombre=[]"
   ]
  },
  {
   "cell_type": "markdown",
   "id": "ed472585",
   "metadata": {},
   "source": [
    "## PRODUCTO 1"
   ]
  },
  {
   "cell_type": "markdown",
   "id": "bf7f29f4",
   "metadata": {},
   "source": [
    "url='https://www.mielectro.es/tv-65pulgadas-lg-oled-b3-65b36la-13297071/'"
   ]
  },
  {
   "cell_type": "code",
   "execution_count": 9,
   "id": "52d9c6ee",
   "metadata": {},
   "outputs": [],
   "source": [
    "driver.get(url)"
   ]
  },
  {
   "cell_type": "code",
   "execution_count": 21,
   "id": "6df806a6",
   "metadata": {},
   "outputs": [],
   "source": [
    "p_1=driver.find_element(By.XPATH,'//*[@id=\"mod4560060\"]/div/div[1]/div[5]/div[2]/div[2]/div[1]/div[1]').text"
   ]
  },
  {
   "cell_type": "code",
   "execution_count": 22,
   "id": "ed6f40e8",
   "metadata": {},
   "outputs": [],
   "source": [
    "match = re.search(r'(\\d+)', p_1)"
   ]
  },
  {
   "cell_type": "code",
   "execution_count": 24,
   "id": "707b57e9",
   "metadata": {},
   "outputs": [
    {
     "data": {
      "text/plain": [
       "2699.0"
      ]
     },
     "execution_count": 24,
     "metadata": {},
     "output_type": "execute_result"
    }
   ],
   "source": [
    "valor_numerico = float(match.group(1))\n",
    "valor_numerico"
   ]
  },
  {
   "cell_type": "code",
   "execution_count": null,
   "id": "fb8b2233",
   "metadata": {},
   "outputs": [],
   "source": []
  }
 ],
 "metadata": {
  "kernelspec": {
   "display_name": "Python 3 (ipykernel)",
   "language": "python",
   "name": "python3"
  },
  "language_info": {
   "codemirror_mode": {
    "name": "ipython",
    "version": 3
   },
   "file_extension": ".py",
   "mimetype": "text/x-python",
   "name": "python",
   "nbconvert_exporter": "python",
   "pygments_lexer": "ipython3",
   "version": "3.11.4"
  }
 },
 "nbformat": 4,
 "nbformat_minor": 5
}
