{
 "cells": [
  {
   "cell_type": "markdown",
   "id": "d61e0768",
   "metadata": {},
   "source": [
    "# SCRAPING DE MIELECTRO"
   ]
  },
  {
   "cell_type": "markdown",
   "id": "c2b57535",
   "metadata": {},
   "source": [
    "Realizado por Lidia Viñuales"
   ]
  },
  {
   "cell_type": "code",
   "execution_count": 1,
   "id": "05ced552",
   "metadata": {},
   "outputs": [],
   "source": [
    "import pandas as pd\n",
    "from selenium.webdriver.chrome.options import Options\n",
    "from webdriver_manager.chrome import ChromeDriverManager\n",
    "import re\n",
    "import numpy as np\n",
    "import math\n",
    "import re"
   ]
  },
  {
   "cell_type": "code",
   "execution_count": 2,
   "id": "b89074d2",
   "metadata": {},
   "outputs": [],
   "source": [
    "#driver configuration\n",
    "opciones=Options()\n",
    "\n",
    "opciones.add_experimental_option('excludeSwitches', ['enable-automation'])\n",
    "opciones.add_experimental_option('useAutomationExtension', False)\n",
    "opciones.headless=False    # si True, no aperece la ventana (headless=no visible)\n",
    "opciones.add_argument('--start-maximized')         # comienza maximizado\n",
    "#opciones.add_argument('user-data-dir=selenium')    # mantiene las cookies\n",
    "#opciones.add_extension('driver_folder/adblock.crx')       # adblocker\n",
    "opciones.add_argument('--incognito')"
   ]
  },
  {
   "cell_type": "code",
   "execution_count": 3,
   "id": "1a9d6d4b",
   "metadata": {},
   "outputs": [],
   "source": [
    "from selenium import webdriver\n",
    "from selenium.webdriver.common.by import By\n",
    "\n",
    "PATH = 'driver/chromedriver.exe'\n",
    "\n",
    "driver = webdriver.Chrome()\n",
    "driver.get('https://www.google.es')"
   ]
  },
  {
   "cell_type": "code",
   "execution_count": 4,
   "id": "086cc8ec",
   "metadata": {},
   "outputs": [],
   "source": [
    "url='https://www.mielectro.es/'"
   ]
  },
  {
   "cell_type": "code",
   "execution_count": 5,
   "id": "8d600c64",
   "metadata": {},
   "outputs": [],
   "source": [
    "driver.get(url)"
   ]
  },
  {
   "cell_type": "markdown",
   "id": "0c497272",
   "metadata": {},
   "source": [
    "**Rechazo las coockies:**"
   ]
  },
  {
   "cell_type": "code",
   "execution_count": 6,
   "id": "f62e82db",
   "metadata": {},
   "outputs": [],
   "source": [
    "driver.find_element(By.XPATH, '//*[@id=\"cookieRechazar\"]').click()"
   ]
  },
  {
   "cell_type": "markdown",
   "id": "01642c40",
   "metadata": {},
   "source": [
    "**Una vez escrapeada la página web de LG vamos a escrapear los precios de los mismos productos en ECI para poder compararlos:**"
   ]
  },
  {
   "cell_type": "markdown",
   "id": "ad06530b",
   "metadata": {},
   "source": [
    "**Para ello vamos a coger el lg_id (sin las letras a partir del punto) de cada producto y lo vamos a buscar manualmente en Mi Electro.**\n",
    "\n",
    "**En un futuro se podría automatizar esta búsqueda según el ID de cada producto.**\n",
    "\n",
    "**Creo una lista vacía a la que iré incorporando los precios de cada producto:**"
   ]
  },
  {
   "cell_type": "code",
   "execution_count": 7,
   "id": "7b578b6f",
   "metadata": {},
   "outputs": [],
   "source": [
    "mie_precios=[]"
   ]
  },
  {
   "cell_type": "markdown",
   "id": "bb03cd29",
   "metadata": {},
   "source": [
    "**Creo una lista vacía a la que iré incorporando los precios de cada producto:**"
   ]
  },
  {
   "cell_type": "code",
   "execution_count": 8,
   "id": "69627f71",
   "metadata": {},
   "outputs": [],
   "source": [
    "mie_desc_p=[]"
   ]
  },
  {
   "cell_type": "markdown",
   "id": "d1d08d22",
   "metadata": {},
   "source": [
    "**Creo una lista vacía a la que iré incorporando la descripción en Media Markt de cada producto:**"
   ]
  },
  {
   "cell_type": "code",
   "execution_count": 9,
   "id": "392ec6f5",
   "metadata": {},
   "outputs": [],
   "source": [
    "mie_nombre=[]"
   ]
  },
  {
   "cell_type": "markdown",
   "id": "708b74da",
   "metadata": {},
   "source": [
    "## PRODUCTOS 1, 3, 4, 5, 7 y 9 DE LG"
   ]
  },
  {
   "cell_type": "markdown",
   "id": "48b3c29e",
   "metadata": {},
   "source": [
    "**No se encuentran estos productos en la página entonces no los scrapeamos.**"
   ]
  },
  {
   "cell_type": "markdown",
   "id": "18dfa1db",
   "metadata": {},
   "source": [
    "# Los siguientes productos si que aparecen:"
   ]
  },
  {
   "cell_type": "markdown",
   "id": "cd3bff56",
   "metadata": {},
   "source": [
    "## PRODUCTO 2 DE LG"
   ]
  },
  {
   "cell_type": "code",
   "execution_count": 10,
   "id": "3c3c8766",
   "metadata": {},
   "outputs": [],
   "source": [
    "url='https://www.mielectro.es/tv-65pulgadas-lg-oled-b3-65b36la-13297071/'"
   ]
  },
  {
   "cell_type": "code",
   "execution_count": 11,
   "id": "ddae9100",
   "metadata": {},
   "outputs": [],
   "source": [
    "driver.get(url)"
   ]
  },
  {
   "cell_type": "code",
   "execution_count": 12,
   "id": "de36b258",
   "metadata": {},
   "outputs": [
    {
     "data": {
      "text/plain": [
       "'2699€'"
      ]
     },
     "execution_count": 12,
     "metadata": {},
     "output_type": "execute_result"
    }
   ],
   "source": [
    "p_1=driver.find_element(By.XPATH,'//*[@id=\"mod4560060\"]/div/div[1]/div[5]/div[2]/div[2]/div[1]/div[1]').text\n",
    "p_1"
   ]
  },
  {
   "cell_type": "code",
   "execution_count": 13,
   "id": "d6b0eba1",
   "metadata": {},
   "outputs": [],
   "source": [
    "match = re.search(r'(\\d+)', p_1)"
   ]
  },
  {
   "cell_type": "code",
   "execution_count": 14,
   "id": "559cb21e",
   "metadata": {},
   "outputs": [
    {
     "data": {
      "text/plain": [
       "2699.0"
      ]
     },
     "execution_count": 14,
     "metadata": {},
     "output_type": "execute_result"
    }
   ],
   "source": [
    "p_1 = float(match.group(1))\n",
    "p_1"
   ]
  },
  {
   "cell_type": "code",
   "execution_count": 15,
   "id": "40ee3e0b",
   "metadata": {},
   "outputs": [
    {
     "data": {
      "text/plain": [
       "[2699.0]"
      ]
     },
     "execution_count": 15,
     "metadata": {},
     "output_type": "execute_result"
    }
   ],
   "source": [
    "mie_precios.append(p_1)\n",
    "mie_precios"
   ]
  },
  {
   "cell_type": "code",
   "execution_count": 16,
   "id": "5fcc10eb",
   "metadata": {},
   "outputs": [
    {
     "data": {
      "text/plain": [
       "'1.599,00€'"
      ]
     },
     "execution_count": 16,
     "metadata": {},
     "output_type": "execute_result"
    }
   ],
   "source": [
    "p_d_1=driver.find_element(By.XPATH,'//*[@id=\"mod4560060\"]/div/div[1]/div[5]/div[2]/div[2]/div[1]/div[2]/div').text\n",
    "p_d_1"
   ]
  },
  {
   "cell_type": "code",
   "execution_count": 17,
   "id": "d74b0013",
   "metadata": {},
   "outputs": [
    {
     "data": {
      "text/plain": [
       "'1599.00'"
      ]
     },
     "execution_count": 17,
     "metadata": {},
     "output_type": "execute_result"
    }
   ],
   "source": [
    "p_d_1=p_d_1.replace('€','').replace('.','').replace(',','.')\n",
    "p_d_1"
   ]
  },
  {
   "cell_type": "code",
   "execution_count": 18,
   "id": "e70c965d",
   "metadata": {},
   "outputs": [
    {
     "data": {
      "text/plain": [
       "1599.0"
      ]
     },
     "execution_count": 18,
     "metadata": {},
     "output_type": "execute_result"
    }
   ],
   "source": [
    "p_d_1=float(p_d_1)\n",
    "p_d_1"
   ]
  },
  {
   "cell_type": "code",
   "execution_count": 19,
   "id": "ad1c2c56",
   "metadata": {},
   "outputs": [
    {
     "data": {
      "text/plain": [
       "[1599.0]"
      ]
     },
     "execution_count": 19,
     "metadata": {},
     "output_type": "execute_result"
    }
   ],
   "source": [
    "mie_desc_p.append(p_d_1)\n",
    "mie_desc_p"
   ]
  },
  {
   "cell_type": "code",
   "execution_count": 20,
   "id": "256b293c",
   "metadata": {},
   "outputs": [
    {
     "data": {
      "text/plain": [
       "'tv 65\" lg oled b3 (65b36la) - 4k 120hz, a7 (gen6) ia'"
      ]
     },
     "execution_count": 20,
     "metadata": {},
     "output_type": "execute_result"
    }
   ],
   "source": [
    "n_1=driver.find_element(By.CLASS_NAME,'hF').text.lower()\n",
    "n_1"
   ]
  },
  {
   "cell_type": "code",
   "execution_count": 21,
   "id": "4d02117a",
   "metadata": {},
   "outputs": [
    {
     "data": {
      "text/plain": [
       "', smart tv, dolby vision/atmos 20w, gaming'"
      ]
     },
     "execution_count": 21,
     "metadata": {},
     "output_type": "execute_result"
    }
   ],
   "source": [
    "n_c_1=driver.find_element(By.CLASS_NAME,'h1Continua').text.lower()\n",
    "n_c_1"
   ]
  },
  {
   "cell_type": "code",
   "execution_count": 22,
   "id": "9072a590",
   "metadata": {},
   "outputs": [
    {
     "data": {
      "text/plain": [
       "'tv 65\" lg oled b3 (65b36la) - 4k 120hz, a7 (gen6) ia, smart tv, dolby vision/atmos 20w, gaming'"
      ]
     },
     "execution_count": 22,
     "metadata": {},
     "output_type": "execute_result"
    }
   ],
   "source": [
    "n_1=n_1+n_c_1\n",
    "n_1"
   ]
  },
  {
   "cell_type": "code",
   "execution_count": 23,
   "id": "a181ba19",
   "metadata": {},
   "outputs": [
    {
     "data": {
      "text/plain": [
       "['tv 65\" lg oled b3 (65b36la) - 4k 120hz, a7 (gen6) ia, smart tv, dolby vision/atmos 20w, gaming']"
      ]
     },
     "execution_count": 23,
     "metadata": {},
     "output_type": "execute_result"
    }
   ],
   "source": [
    "mie_nombre.append(n_1)\n",
    "mie_nombre"
   ]
  },
  {
   "cell_type": "markdown",
   "id": "8fc4de64",
   "metadata": {},
   "source": [
    "# PRODUCTO 6 DE LG"
   ]
  },
  {
   "cell_type": "code",
   "execution_count": 24,
   "id": "0d5ca681",
   "metadata": {},
   "outputs": [],
   "source": [
    "url='https://www.mielectro.es/tv-55pulgadas-lg-oled-c3-evo-55c34la-13291071/'"
   ]
  },
  {
   "cell_type": "code",
   "execution_count": 25,
   "id": "3c528cc3",
   "metadata": {},
   "outputs": [],
   "source": [
    "driver.get(url)"
   ]
  },
  {
   "cell_type": "code",
   "execution_count": 26,
   "id": "9c48d541",
   "metadata": {},
   "outputs": [
    {
     "data": {
      "text/plain": [
       "'2199€'"
      ]
     },
     "execution_count": 26,
     "metadata": {},
     "output_type": "execute_result"
    }
   ],
   "source": [
    "p=driver.find_element(By.XPATH,'//*[@id=\"mod4560060\"]/div/div[1]/div[5]/div[2]/div[2]/div[1]/div[1]').text\n",
    "p"
   ]
  },
  {
   "cell_type": "code",
   "execution_count": 27,
   "id": "096fbe2e",
   "metadata": {},
   "outputs": [],
   "source": [
    "match = re.search(r'(\\d+)', p)"
   ]
  },
  {
   "cell_type": "code",
   "execution_count": 28,
   "id": "00b37dc4",
   "metadata": {},
   "outputs": [
    {
     "data": {
      "text/plain": [
       "2199.0"
      ]
     },
     "execution_count": 28,
     "metadata": {},
     "output_type": "execute_result"
    }
   ],
   "source": [
    "p = float(match.group(1))\n",
    "p"
   ]
  },
  {
   "cell_type": "code",
   "execution_count": 29,
   "id": "754021e7",
   "metadata": {},
   "outputs": [
    {
     "data": {
      "text/plain": [
       "[2699.0, 2199.0]"
      ]
     },
     "execution_count": 29,
     "metadata": {},
     "output_type": "execute_result"
    }
   ],
   "source": [
    "mie_precios.append(p)\n",
    "mie_precios"
   ]
  },
  {
   "cell_type": "code",
   "execution_count": 30,
   "id": "d654b1d9",
   "metadata": {},
   "outputs": [
    {
     "data": {
      "text/plain": [
       "'1.359,00€'"
      ]
     },
     "execution_count": 30,
     "metadata": {},
     "output_type": "execute_result"
    }
   ],
   "source": [
    "p_d=driver.find_element(By.XPATH,'//*[@id=\"mod4560060\"]/div/div[1]/div[5]/div[2]/div[2]/div[1]/div[2]/div').text\n",
    "p_d"
   ]
  },
  {
   "cell_type": "code",
   "execution_count": 31,
   "id": "b327374f",
   "metadata": {},
   "outputs": [
    {
     "data": {
      "text/plain": [
       "'1359.00'"
      ]
     },
     "execution_count": 31,
     "metadata": {},
     "output_type": "execute_result"
    }
   ],
   "source": [
    "p_d=p_d.replace('€','').replace('.','').replace(',','.')\n",
    "p_d"
   ]
  },
  {
   "cell_type": "code",
   "execution_count": 32,
   "id": "8d446450",
   "metadata": {},
   "outputs": [
    {
     "data": {
      "text/plain": [
       "1359.0"
      ]
     },
     "execution_count": 32,
     "metadata": {},
     "output_type": "execute_result"
    }
   ],
   "source": [
    "p_d=float(p_d)\n",
    "p_d"
   ]
  },
  {
   "cell_type": "code",
   "execution_count": 33,
   "id": "a82edf74",
   "metadata": {},
   "outputs": [
    {
     "data": {
      "text/plain": [
       "[1599.0, 1359.0]"
      ]
     },
     "execution_count": 33,
     "metadata": {},
     "output_type": "execute_result"
    }
   ],
   "source": [
    "mie_desc_p.append(p_d)\n",
    "mie_desc_p"
   ]
  },
  {
   "cell_type": "code",
   "execution_count": 34,
   "id": "d4add8df",
   "metadata": {},
   "outputs": [
    {
     "data": {
      "text/plain": [
       "'tv 55\" lg oled c3 evo (55c34la) - 4k 120hz, a9 (gen6)'"
      ]
     },
     "execution_count": 34,
     "metadata": {},
     "output_type": "execute_result"
    }
   ],
   "source": [
    "n=driver.find_element(By.CLASS_NAME,'hF').text.lower()\n",
    "n"
   ]
  },
  {
   "cell_type": "code",
   "execution_count": 35,
   "id": "0236e537",
   "metadata": {},
   "outputs": [
    {
     "data": {
      "text/plain": [
       "', smart tv, dolby vision iq/atmos 40w, gaming'"
      ]
     },
     "execution_count": 35,
     "metadata": {},
     "output_type": "execute_result"
    }
   ],
   "source": [
    "n_c=driver.find_element(By.CLASS_NAME,'h1Continua').text.lower()\n",
    "n_c"
   ]
  },
  {
   "cell_type": "code",
   "execution_count": 36,
   "id": "905fa0b4",
   "metadata": {},
   "outputs": [
    {
     "data": {
      "text/plain": [
       "'tv 65\" lg oled b3 (65b36la) - 4k 120hz, a7 (gen6) ia, smart tv, dolby vision/atmos 20w, gaming, smart tv, dolby vision iq/atmos 40w, gaming'"
      ]
     },
     "execution_count": 36,
     "metadata": {},
     "output_type": "execute_result"
    }
   ],
   "source": [
    "n=n_1+n_c\n",
    "n"
   ]
  },
  {
   "cell_type": "code",
   "execution_count": 37,
   "id": "d8eacf03",
   "metadata": {},
   "outputs": [
    {
     "data": {
      "text/plain": [
       "['tv 65\" lg oled b3 (65b36la) - 4k 120hz, a7 (gen6) ia, smart tv, dolby vision/atmos 20w, gaming',\n",
       " 'tv 65\" lg oled b3 (65b36la) - 4k 120hz, a7 (gen6) ia, smart tv, dolby vision/atmos 20w, gaming, smart tv, dolby vision iq/atmos 40w, gaming']"
      ]
     },
     "execution_count": 37,
     "metadata": {},
     "output_type": "execute_result"
    }
   ],
   "source": [
    "mie_nombre.append(n)\n",
    "mie_nombre"
   ]
  },
  {
   "cell_type": "markdown",
   "id": "93c1423a",
   "metadata": {},
   "source": [
    "# PRODUCTO 8 DE LG"
   ]
  },
  {
   "cell_type": "code",
   "execution_count": 38,
   "id": "677440a5",
   "metadata": {},
   "outputs": [],
   "source": [
    "url='https://www.mielectro.es/tv-77pulgadas-lg-oled-g3-evo-77g36la-13286071/'"
   ]
  },
  {
   "cell_type": "code",
   "execution_count": 39,
   "id": "14a74e25",
   "metadata": {},
   "outputs": [],
   "source": [
    "driver.get(url)"
   ]
  },
  {
   "cell_type": "code",
   "execution_count": 40,
   "id": "627079ca",
   "metadata": {},
   "outputs": [
    {
     "data": {
      "text/plain": [
       "'5199€'"
      ]
     },
     "execution_count": 40,
     "metadata": {},
     "output_type": "execute_result"
    }
   ],
   "source": [
    "p=driver.find_element(By.XPATH,'//*[@id=\"mod4560060\"]/div/div[1]/div[5]/div[2]/div[2]/div[1]/div[1]').text\n",
    "p"
   ]
  },
  {
   "cell_type": "code",
   "execution_count": 41,
   "id": "8947ee6b",
   "metadata": {},
   "outputs": [],
   "source": [
    "match = re.search(r'(\\d+)', p)"
   ]
  },
  {
   "cell_type": "code",
   "execution_count": 42,
   "id": "f11f6578",
   "metadata": {},
   "outputs": [
    {
     "data": {
      "text/plain": [
       "5199.0"
      ]
     },
     "execution_count": 42,
     "metadata": {},
     "output_type": "execute_result"
    }
   ],
   "source": [
    "p = float(match.group(1))\n",
    "p"
   ]
  },
  {
   "cell_type": "code",
   "execution_count": 43,
   "id": "5722bd33",
   "metadata": {},
   "outputs": [
    {
     "data": {
      "text/plain": [
       "[2699.0, 2199.0, 5199.0]"
      ]
     },
     "execution_count": 43,
     "metadata": {},
     "output_type": "execute_result"
    }
   ],
   "source": [
    "mie_precios.append(p)\n",
    "mie_precios"
   ]
  },
  {
   "cell_type": "code",
   "execution_count": 44,
   "id": "25c85744",
   "metadata": {},
   "outputs": [
    {
     "data": {
      "text/plain": [
       "'3.359,00€'"
      ]
     },
     "execution_count": 44,
     "metadata": {},
     "output_type": "execute_result"
    }
   ],
   "source": [
    "p_d=driver.find_element(By.XPATH,'//*[@id=\"mod4560060\"]/div/div[1]/div[5]/div[2]/div[2]/div[1]/div[2]/div').text\n",
    "p_d"
   ]
  },
  {
   "cell_type": "code",
   "execution_count": 45,
   "id": "cca119fc",
   "metadata": {},
   "outputs": [
    {
     "data": {
      "text/plain": [
       "'3359.00'"
      ]
     },
     "execution_count": 45,
     "metadata": {},
     "output_type": "execute_result"
    }
   ],
   "source": [
    "p_d=p_d.replace('€','').replace('.','').replace(',','.')\n",
    "p_d"
   ]
  },
  {
   "cell_type": "code",
   "execution_count": 46,
   "id": "cdef11cd",
   "metadata": {},
   "outputs": [
    {
     "data": {
      "text/plain": [
       "3359.0"
      ]
     },
     "execution_count": 46,
     "metadata": {},
     "output_type": "execute_result"
    }
   ],
   "source": [
    "p_d=float(p_d)\n",
    "p_d"
   ]
  },
  {
   "cell_type": "code",
   "execution_count": 47,
   "id": "b44f2297",
   "metadata": {},
   "outputs": [
    {
     "data": {
      "text/plain": [
       "[1599.0, 1359.0, 3359.0]"
      ]
     },
     "execution_count": 47,
     "metadata": {},
     "output_type": "execute_result"
    }
   ],
   "source": [
    "mie_desc_p.append(p_d)\n",
    "mie_desc_p"
   ]
  },
  {
   "cell_type": "code",
   "execution_count": 48,
   "id": "2f082bef",
   "metadata": {},
   "outputs": [
    {
     "data": {
      "text/plain": [
       "'tv 77\" lg oled g3 evo (77g36la) - 4k 120hz, webos23'"
      ]
     },
     "execution_count": 48,
     "metadata": {},
     "output_type": "execute_result"
    }
   ],
   "source": [
    "n=driver.find_element(By.CLASS_NAME,'hF').text.lower()\n",
    "n"
   ]
  },
  {
   "cell_type": "code",
   "execution_count": 49,
   "id": "8886e605",
   "metadata": {},
   "outputs": [
    {
     "data": {
      "text/plain": [
       "', a9 (gen6) ia, dolby vision iq/atmos 60w 4.2ch'"
      ]
     },
     "execution_count": 49,
     "metadata": {},
     "output_type": "execute_result"
    }
   ],
   "source": [
    "n_c=driver.find_element(By.CLASS_NAME,'h1Continua').text.lower()\n",
    "n_c"
   ]
  },
  {
   "cell_type": "code",
   "execution_count": 50,
   "id": "65ebb8c2",
   "metadata": {},
   "outputs": [
    {
     "data": {
      "text/plain": [
       "'tv 65\" lg oled b3 (65b36la) - 4k 120hz, a7 (gen6) ia, smart tv, dolby vision/atmos 20w, gaming, a9 (gen6) ia, dolby vision iq/atmos 60w 4.2ch'"
      ]
     },
     "execution_count": 50,
     "metadata": {},
     "output_type": "execute_result"
    }
   ],
   "source": [
    "n=n_1+n_c\n",
    "n"
   ]
  },
  {
   "cell_type": "code",
   "execution_count": 51,
   "id": "f5339a74",
   "metadata": {},
   "outputs": [
    {
     "data": {
      "text/plain": [
       "['tv 65\" lg oled b3 (65b36la) - 4k 120hz, a7 (gen6) ia, smart tv, dolby vision/atmos 20w, gaming',\n",
       " 'tv 65\" lg oled b3 (65b36la) - 4k 120hz, a7 (gen6) ia, smart tv, dolby vision/atmos 20w, gaming, smart tv, dolby vision iq/atmos 40w, gaming',\n",
       " 'tv 65\" lg oled b3 (65b36la) - 4k 120hz, a7 (gen6) ia, smart tv, dolby vision/atmos 20w, gaming, a9 (gen6) ia, dolby vision iq/atmos 60w 4.2ch']"
      ]
     },
     "execution_count": 51,
     "metadata": {},
     "output_type": "execute_result"
    }
   ],
   "source": [
    "mie_nombre.append(n)\n",
    "mie_nombre"
   ]
  },
  {
   "cell_type": "markdown",
   "id": "20f640ac",
   "metadata": {},
   "source": [
    "# DESCUENTOS"
   ]
  },
  {
   "cell_type": "code",
   "execution_count": 52,
   "id": "8b104bdf",
   "metadata": {},
   "outputs": [
    {
     "data": {
      "text/plain": [
       "[41, 38, 35]"
      ]
     },
     "execution_count": 52,
     "metadata": {},
     "output_type": "execute_result"
    }
   ],
   "source": [
    "mie_descuentos = []\n",
    "for price_value, outlet_price_value in zip(mie_precios, mie_desc_p):\n",
    "    if not math.isnan(price_value) and not math.isnan(outlet_price_value):\n",
    "        descuento = (1 - (outlet_price_value / price_value)) * 100\n",
    "        mie_descuentos.append(round(descuento))\n",
    "    else:\n",
    "        mie_descuentos.append(np.nan)\n",
    "mie_descuentos"
   ]
  },
  {
   "cell_type": "markdown",
   "id": "1acbfc4d",
   "metadata": {},
   "source": [
    "# ID"
   ]
  },
  {
   "cell_type": "code",
   "execution_count": 53,
   "id": "d76e2e6d",
   "metadata": {},
   "outputs": [],
   "source": [
    "mie_indice = list(range(1, len(mie_nombre) + 1))"
   ]
  },
  {
   "cell_type": "markdown",
   "id": "d711ca06",
   "metadata": {},
   "source": [
    "# BRAND"
   ]
  },
  {
   "cell_type": "code",
   "execution_count": 54,
   "id": "c3f52534",
   "metadata": {},
   "outputs": [
    {
     "data": {
      "text/plain": [
       "['2', '2', '2']"
      ]
     },
     "execution_count": 54,
     "metadata": {},
     "output_type": "execute_result"
    }
   ],
   "source": [
    "brand_indice=['2'] * len(mie_nombre)\n",
    "brand_indice"
   ]
  },
  {
   "cell_type": "markdown",
   "id": "061b4850",
   "metadata": {},
   "source": [
    "# Creación del DataFrame:"
   ]
  },
  {
   "cell_type": "code",
   "execution_count": 55,
   "id": "b3ab8441",
   "metadata": {},
   "outputs": [],
   "source": [
    "mielectro=pd.DataFrame({'mie_indice':mie_indice,'brand_indice':brand_indice,'mie_nombre':mie_nombre,'mie_precios':mie_precios,'mie_precio_rebajado':mie_desc_p, 'mie_descuento':mie_descuentos})"
   ]
  },
  {
   "cell_type": "code",
   "execution_count": 56,
   "id": "a6e1d520",
   "metadata": {},
   "outputs": [
    {
     "data": {
      "text/html": [
       "<div>\n",
       "<style scoped>\n",
       "    .dataframe tbody tr th:only-of-type {\n",
       "        vertical-align: middle;\n",
       "    }\n",
       "\n",
       "    .dataframe tbody tr th {\n",
       "        vertical-align: top;\n",
       "    }\n",
       "\n",
       "    .dataframe thead th {\n",
       "        text-align: right;\n",
       "    }\n",
       "</style>\n",
       "<table border=\"1\" class=\"dataframe\">\n",
       "  <thead>\n",
       "    <tr style=\"text-align: right;\">\n",
       "      <th></th>\n",
       "      <th>mie_indice</th>\n",
       "      <th>brand_indice</th>\n",
       "      <th>mie_nombre</th>\n",
       "      <th>mie_precios</th>\n",
       "      <th>mie_precio_rebajado</th>\n",
       "      <th>mie_descuento</th>\n",
       "    </tr>\n",
       "  </thead>\n",
       "  <tbody>\n",
       "    <tr>\n",
       "      <th>0</th>\n",
       "      <td>1</td>\n",
       "      <td>2</td>\n",
       "      <td>tv 65\" lg oled b3 (65b36la) - 4k 120hz, a7 (ge...</td>\n",
       "      <td>2699.0</td>\n",
       "      <td>1599.0</td>\n",
       "      <td>41</td>\n",
       "    </tr>\n",
       "    <tr>\n",
       "      <th>1</th>\n",
       "      <td>2</td>\n",
       "      <td>2</td>\n",
       "      <td>tv 65\" lg oled b3 (65b36la) - 4k 120hz, a7 (ge...</td>\n",
       "      <td>2199.0</td>\n",
       "      <td>1359.0</td>\n",
       "      <td>38</td>\n",
       "    </tr>\n",
       "    <tr>\n",
       "      <th>2</th>\n",
       "      <td>3</td>\n",
       "      <td>2</td>\n",
       "      <td>tv 65\" lg oled b3 (65b36la) - 4k 120hz, a7 (ge...</td>\n",
       "      <td>5199.0</td>\n",
       "      <td>3359.0</td>\n",
       "      <td>35</td>\n",
       "    </tr>\n",
       "  </tbody>\n",
       "</table>\n",
       "</div>"
      ],
      "text/plain": [
       "   mie_indice brand_indice                                         mie_nombre  \\\n",
       "0           1            2  tv 65\" lg oled b3 (65b36la) - 4k 120hz, a7 (ge...   \n",
       "1           2            2  tv 65\" lg oled b3 (65b36la) - 4k 120hz, a7 (ge...   \n",
       "2           3            2  tv 65\" lg oled b3 (65b36la) - 4k 120hz, a7 (ge...   \n",
       "\n",
       "   mie_precios  mie_precio_rebajado  mie_descuento  \n",
       "0       2699.0               1599.0             41  \n",
       "1       2199.0               1359.0             38  \n",
       "2       5199.0               3359.0             35  "
      ]
     },
     "execution_count": 56,
     "metadata": {},
     "output_type": "execute_result"
    }
   ],
   "source": [
    "mielectro"
   ]
  },
  {
   "cell_type": "markdown",
   "id": "80ba1e8e",
   "metadata": {},
   "source": [
    "**Añado la relación de estos productos con los elementos de la tabla LG, en un futuro podría relacionar esto automaticamente**"
   ]
  },
  {
   "cell_type": "code",
   "execution_count": 57,
   "id": "47bd6d61",
   "metadata": {},
   "outputs": [],
   "source": [
    "lg_indice=[2, 6, 8]"
   ]
  },
  {
   "cell_type": "code",
   "execution_count": 58,
   "id": "21a33e0c",
   "metadata": {},
   "outputs": [],
   "source": [
    "mielectro['lg_indice']=lg_indice"
   ]
  },
  {
   "cell_type": "code",
   "execution_count": 59,
   "id": "705f13e5",
   "metadata": {},
   "outputs": [
    {
     "data": {
      "text/html": [
       "<div>\n",
       "<style scoped>\n",
       "    .dataframe tbody tr th:only-of-type {\n",
       "        vertical-align: middle;\n",
       "    }\n",
       "\n",
       "    .dataframe tbody tr th {\n",
       "        vertical-align: top;\n",
       "    }\n",
       "\n",
       "    .dataframe thead th {\n",
       "        text-align: right;\n",
       "    }\n",
       "</style>\n",
       "<table border=\"1\" class=\"dataframe\">\n",
       "  <thead>\n",
       "    <tr style=\"text-align: right;\">\n",
       "      <th></th>\n",
       "      <th>mie_indice</th>\n",
       "      <th>brand_indice</th>\n",
       "      <th>mie_nombre</th>\n",
       "      <th>mie_precios</th>\n",
       "      <th>mie_precio_rebajado</th>\n",
       "      <th>mie_descuento</th>\n",
       "      <th>lg_indice</th>\n",
       "    </tr>\n",
       "  </thead>\n",
       "  <tbody>\n",
       "    <tr>\n",
       "      <th>0</th>\n",
       "      <td>1</td>\n",
       "      <td>2</td>\n",
       "      <td>tv 65\" lg oled b3 (65b36la) - 4k 120hz, a7 (ge...</td>\n",
       "      <td>2699.0</td>\n",
       "      <td>1599.0</td>\n",
       "      <td>41</td>\n",
       "      <td>2</td>\n",
       "    </tr>\n",
       "    <tr>\n",
       "      <th>1</th>\n",
       "      <td>2</td>\n",
       "      <td>2</td>\n",
       "      <td>tv 65\" lg oled b3 (65b36la) - 4k 120hz, a7 (ge...</td>\n",
       "      <td>2199.0</td>\n",
       "      <td>1359.0</td>\n",
       "      <td>38</td>\n",
       "      <td>6</td>\n",
       "    </tr>\n",
       "    <tr>\n",
       "      <th>2</th>\n",
       "      <td>3</td>\n",
       "      <td>2</td>\n",
       "      <td>tv 65\" lg oled b3 (65b36la) - 4k 120hz, a7 (ge...</td>\n",
       "      <td>5199.0</td>\n",
       "      <td>3359.0</td>\n",
       "      <td>35</td>\n",
       "      <td>8</td>\n",
       "    </tr>\n",
       "  </tbody>\n",
       "</table>\n",
       "</div>"
      ],
      "text/plain": [
       "   mie_indice brand_indice                                         mie_nombre  \\\n",
       "0           1            2  tv 65\" lg oled b3 (65b36la) - 4k 120hz, a7 (ge...   \n",
       "1           2            2  tv 65\" lg oled b3 (65b36la) - 4k 120hz, a7 (ge...   \n",
       "2           3            2  tv 65\" lg oled b3 (65b36la) - 4k 120hz, a7 (ge...   \n",
       "\n",
       "   mie_precios  mie_precio_rebajado  mie_descuento  lg_indice  \n",
       "0       2699.0               1599.0             41          2  \n",
       "1       2199.0               1359.0             38          6  \n",
       "2       5199.0               3359.0             35          8  "
      ]
     },
     "execution_count": 59,
     "metadata": {},
     "output_type": "execute_result"
    }
   ],
   "source": [
    "mielectro"
   ]
  },
  {
   "cell_type": "markdown",
   "id": "990f1b47",
   "metadata": {},
   "source": [
    "**Exporto el DataFrame a un CSV para cargarlo en Mysql:**"
   ]
  },
  {
   "cell_type": "code",
   "execution_count": 60,
   "id": "784bf3e8",
   "metadata": {},
   "outputs": [],
   "source": [
    "mielectro.to_csv('../csv/tablas_mysql/mielectro.csv', index=False)"
   ]
  },
  {
   "cell_type": "code",
   "execution_count": null,
   "id": "a0b828ad",
   "metadata": {},
   "outputs": [],
   "source": []
  }
 ],
 "metadata": {
  "kernelspec": {
   "display_name": "Python 3 (ipykernel)",
   "language": "python",
   "name": "python3"
  },
  "language_info": {
   "codemirror_mode": {
    "name": "ipython",
    "version": 3
   },
   "file_extension": ".py",
   "mimetype": "text/x-python",
   "name": "python",
   "nbconvert_exporter": "python",
   "pygments_lexer": "ipython3",
   "version": "3.11.4"
  }
 },
 "nbformat": 4,
 "nbformat_minor": 5
}
