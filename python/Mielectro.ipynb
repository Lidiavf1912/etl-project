{
 "cells": [
  {
   "cell_type": "markdown",
   "id": "d61e0768",
   "metadata": {},
   "source": [
    "# SCRAPING DE MIELECTRO"
   ]
  },
  {
   "cell_type": "markdown",
   "id": "c2b57535",
   "metadata": {},
   "source": [
    "Realizado por Lidia Viñuales"
   ]
  },
  {
   "cell_type": "code",
   "execution_count": 1,
   "id": "05ced552",
   "metadata": {},
   "outputs": [],
   "source": [
    "import pandas as pd\n",
    "from selenium.webdriver.chrome.options import Options\n",
    "from webdriver_manager.chrome import ChromeDriverManager\n",
    "import re\n",
    "import numpy as np\n",
    "import math\n",
    "import re"
   ]
  },
  {
   "cell_type": "code",
   "execution_count": 2,
   "id": "b89074d2",
   "metadata": {},
   "outputs": [],
   "source": [
    "#driver configuration\n",
    "opciones=Options()\n",
    "\n",
    "opciones.add_experimental_option('excludeSwitches', ['enable-automation'])\n",
    "opciones.add_experimental_option('useAutomationExtension', False)\n",
    "opciones.headless=False    # si True, no aperece la ventana (headless=no visible)\n",
    "opciones.add_argument('--start-maximized')         # comienza maximizado\n",
    "#opciones.add_argument('user-data-dir=selenium')    # mantiene las cookies\n",
    "#opciones.add_extension('driver_folder/adblock.crx')       # adblocker\n",
    "opciones.add_argument('--incognito')"
   ]
  },
  {
   "cell_type": "code",
   "execution_count": 3,
   "id": "1a9d6d4b",
   "metadata": {},
   "outputs": [],
   "source": [
    "from selenium import webdriver\n",
    "from selenium.webdriver.common.by import By\n",
    "\n",
    "PATH = 'driver/chromedriver.exe'\n",
    "\n",
    "driver = webdriver.Chrome()\n",
    "driver.get('https://www.google.es')"
   ]
  },
  {
   "cell_type": "code",
   "execution_count": 4,
   "id": "086cc8ec",
   "metadata": {},
   "outputs": [],
   "source": [
    "url='https://www.mielectro.es/'"
   ]
  },
  {
   "cell_type": "code",
   "execution_count": 5,
   "id": "8d600c64",
   "metadata": {},
   "outputs": [],
   "source": [
    "driver.get(url)"
   ]
  },
  {
   "cell_type": "markdown",
   "id": "0c497272",
   "metadata": {},
   "source": [
    "**Rechazo las coockies:**"
   ]
  },
  {
   "cell_type": "code",
   "execution_count": 6,
   "id": "f62e82db",
   "metadata": {},
   "outputs": [],
   "source": [
    "driver.find_element(By.XPATH, '//*[@id=\"cookieRechazar\"]').click()"
   ]
  },
  {
   "cell_type": "markdown",
   "id": "01642c40",
   "metadata": {},
   "source": [
    "**Una vez escrapeada la página web de LG vamos a escrapear los precios de los mismos productos en ECI para poder compararlos:**"
   ]
  },
  {
   "cell_type": "markdown",
   "id": "ad06530b",
   "metadata": {},
   "source": [
    "**Para ello vamos a coger el lg_id (sin las letras a partir del punto) de cada producto y lo vamos a buscar manualmente en Mi Electro.**\n",
    "\n",
    "**En un futuro se podría automatizar esta búsqueda según el ID de cada producto.**\n",
    "\n",
    "**Creo una lista vacía a la que iré incorporando los precios de cada producto:**"
   ]
  },
  {
   "cell_type": "code",
   "execution_count": 7,
   "id": "7b578b6f",
   "metadata": {},
   "outputs": [],
   "source": [
    "mie_precios=[]"
   ]
  },
  {
   "cell_type": "markdown",
   "id": "bb03cd29",
   "metadata": {},
   "source": [
    "**Creo una lista vacía a la que iré incorporando los precios de cada producto:**"
   ]
  },
  {
   "cell_type": "code",
   "execution_count": 8,
   "id": "69627f71",
   "metadata": {},
   "outputs": [],
   "source": [
    "mie_desc_p=[]"
   ]
  },
  {
   "cell_type": "markdown",
   "id": "d1d08d22",
   "metadata": {},
   "source": [
    "**Creo una lista vacía a la que iré incorporando la descripción en Media Markt de cada producto:**"
   ]
  },
  {
   "cell_type": "code",
   "execution_count": 9,
   "id": "392ec6f5",
   "metadata": {},
   "outputs": [],
   "source": [
    "mie_nombre=[]"
   ]
  },
  {
   "cell_type": "markdown",
   "id": "708b74da",
   "metadata": {},
   "source": [
    "## PRODUCTOS 0, 2, 3, 4"
   ]
  },
  {
   "cell_type": "markdown",
   "id": "f95ad4df",
   "metadata": {},
   "source": [
    "**No se encuentra este producto en la página entonces lo anotamos como NaN.**"
   ]
  },
  {
   "cell_type": "markdown",
   "id": "852e156f",
   "metadata": {},
   "source": [
    "**Para el nombre, añado el que tenía en la tienda Outlet de LG:**"
   ]
  },
  {
   "cell_type": "markdown",
   "id": "cd3bff56",
   "metadata": {},
   "source": [
    "## PRODUCTO 1"
   ]
  },
  {
   "cell_type": "code",
   "execution_count": 10,
   "id": "3c3c8766",
   "metadata": {},
   "outputs": [],
   "source": [
    "url='https://www.mielectro.es/tv-65pulgadas-lg-oled-b3-65b36la-13297071/'"
   ]
  },
  {
   "cell_type": "code",
   "execution_count": 11,
   "id": "ddae9100",
   "metadata": {},
   "outputs": [],
   "source": [
    "driver.get(url)"
   ]
  },
  {
   "cell_type": "code",
   "execution_count": 12,
   "id": "de36b258",
   "metadata": {},
   "outputs": [
    {
     "data": {
      "text/plain": [
       "'2699€'"
      ]
     },
     "execution_count": 12,
     "metadata": {},
     "output_type": "execute_result"
    }
   ],
   "source": [
    "p_1=driver.find_element(By.XPATH,'//*[@id=\"mod4560060\"]/div/div[1]/div[5]/div[2]/div[2]/div[1]/div[1]').text\n",
    "p_1"
   ]
  },
  {
   "cell_type": "code",
   "execution_count": 13,
   "id": "d6b0eba1",
   "metadata": {},
   "outputs": [],
   "source": [
    "match = re.search(r'(\\d+)', p_1)"
   ]
  },
  {
   "cell_type": "code",
   "execution_count": 14,
   "id": "559cb21e",
   "metadata": {},
   "outputs": [
    {
     "data": {
      "text/plain": [
       "2699.0"
      ]
     },
     "execution_count": 14,
     "metadata": {},
     "output_type": "execute_result"
    }
   ],
   "source": [
    "p_1 = float(match.group(1))\n",
    "p_1"
   ]
  },
  {
   "cell_type": "code",
   "execution_count": 15,
   "id": "40ee3e0b",
   "metadata": {},
   "outputs": [
    {
     "data": {
      "text/plain": [
       "[2699.0]"
      ]
     },
     "execution_count": 15,
     "metadata": {},
     "output_type": "execute_result"
    }
   ],
   "source": [
    "mie_precios.append(p_1)\n",
    "mie_precios"
   ]
  },
  {
   "cell_type": "code",
   "execution_count": 16,
   "id": "5fcc10eb",
   "metadata": {},
   "outputs": [
    {
     "data": {
      "text/plain": [
       "'1.599,00€'"
      ]
     },
     "execution_count": 16,
     "metadata": {},
     "output_type": "execute_result"
    }
   ],
   "source": [
    "p_d_1=driver.find_element(By.XPATH,'//*[@id=\"mod4560060\"]/div/div[1]/div[5]/div[2]/div[2]/div[1]/div[2]/div').text\n",
    "p_d_1"
   ]
  },
  {
   "cell_type": "code",
   "execution_count": 17,
   "id": "3f4f5560",
   "metadata": {},
   "outputs": [
    {
     "data": {
      "text/plain": [
       "'1599.00'"
      ]
     },
     "execution_count": 17,
     "metadata": {},
     "output_type": "execute_result"
    }
   ],
   "source": [
    "p_d_1=p_d_1.replace('€','').replace('.','').replace(',','.')\n",
    "p_d_1"
   ]
  },
  {
   "cell_type": "code",
   "execution_count": 18,
   "id": "9e74438c",
   "metadata": {},
   "outputs": [
    {
     "data": {
      "text/plain": [
       "1599.0"
      ]
     },
     "execution_count": 18,
     "metadata": {},
     "output_type": "execute_result"
    }
   ],
   "source": [
    "p_d_1=float(p_d_1)\n",
    "p_d_1"
   ]
  },
  {
   "cell_type": "code",
   "execution_count": 19,
   "id": "ad1c2c56",
   "metadata": {},
   "outputs": [
    {
     "data": {
      "text/plain": [
       "[1599.0]"
      ]
     },
     "execution_count": 19,
     "metadata": {},
     "output_type": "execute_result"
    }
   ],
   "source": [
    "mie_desc_p.append(p_d_1)\n",
    "mie_desc_p"
   ]
  },
  {
   "cell_type": "code",
   "execution_count": 20,
   "id": "e5ae9406",
   "metadata": {},
   "outputs": [
    {
     "data": {
      "text/plain": [
       "'TV 65\" LG OLED B3 (65B36LA) - 4K 120Hz, A7 (Gen6) IA'"
      ]
     },
     "execution_count": 20,
     "metadata": {},
     "output_type": "execute_result"
    }
   ],
   "source": [
    "n_1=driver.find_element(By.CLASS_NAME,'hF').text\n",
    "n_1"
   ]
  },
  {
   "cell_type": "code",
   "execution_count": 21,
   "id": "9824e571",
   "metadata": {},
   "outputs": [
    {
     "data": {
      "text/plain": [
       "', Smart TV, Dolby Vision/Atmos 20W, Gaming'"
      ]
     },
     "execution_count": 21,
     "metadata": {},
     "output_type": "execute_result"
    }
   ],
   "source": [
    "n_c_1=driver.find_element(By.CLASS_NAME,'h1Continua').text\n",
    "n_c_1"
   ]
  },
  {
   "cell_type": "code",
   "execution_count": 22,
   "id": "eaf50141",
   "metadata": {},
   "outputs": [
    {
     "data": {
      "text/plain": [
       "'TV 65\" LG OLED B3 (65B36LA) - 4K 120Hz, A7 (Gen6) IA, Smart TV, Dolby Vision/Atmos 20W, Gaming'"
      ]
     },
     "execution_count": 22,
     "metadata": {},
     "output_type": "execute_result"
    }
   ],
   "source": [
    "n_1=n_1+n_c_1\n",
    "n_1"
   ]
  },
  {
   "cell_type": "code",
   "execution_count": 23,
   "id": "f62ce690",
   "metadata": {},
   "outputs": [
    {
     "data": {
      "text/plain": [
       "['TV 65\" LG OLED B3 (65B36LA) - 4K 120Hz, A7 (Gen6) IA, Smart TV, Dolby Vision/Atmos 20W, Gaming']"
      ]
     },
     "execution_count": 23,
     "metadata": {},
     "output_type": "execute_result"
    }
   ],
   "source": [
    "mie_nombre.append(n_1)\n",
    "mie_nombre"
   ]
  },
  {
   "cell_type": "markdown",
   "id": "fedcc4fe",
   "metadata": {},
   "source": [
    "# PRODUCTO 5"
   ]
  },
  {
   "cell_type": "code",
   "execution_count": 24,
   "id": "d9e0657f",
   "metadata": {},
   "outputs": [],
   "source": [
    "url='https://www.mielectro.es/tv-55pulgadas-lg-oled-c3-evo-55c34la-13291071/'"
   ]
  },
  {
   "cell_type": "code",
   "execution_count": 25,
   "id": "e333a452",
   "metadata": {},
   "outputs": [],
   "source": [
    "driver.get(url)"
   ]
  },
  {
   "cell_type": "code",
   "execution_count": 26,
   "id": "f4f6eeee",
   "metadata": {},
   "outputs": [
    {
     "data": {
      "text/plain": [
       "'2199€'"
      ]
     },
     "execution_count": 26,
     "metadata": {},
     "output_type": "execute_result"
    }
   ],
   "source": [
    "p=driver.find_element(By.XPATH,'//*[@id=\"mod4560060\"]/div/div[1]/div[5]/div[2]/div[2]/div[1]/div[1]').text\n",
    "p"
   ]
  },
  {
   "cell_type": "code",
   "execution_count": 27,
   "id": "dc73aace",
   "metadata": {},
   "outputs": [],
   "source": [
    "match = re.search(r'(\\d+)', p)"
   ]
  },
  {
   "cell_type": "code",
   "execution_count": 28,
   "id": "a153bfa1",
   "metadata": {},
   "outputs": [
    {
     "data": {
      "text/plain": [
       "2199.0"
      ]
     },
     "execution_count": 28,
     "metadata": {},
     "output_type": "execute_result"
    }
   ],
   "source": [
    "p = float(match.group(1))\n",
    "p"
   ]
  },
  {
   "cell_type": "code",
   "execution_count": 29,
   "id": "b13edba9",
   "metadata": {},
   "outputs": [
    {
     "data": {
      "text/plain": [
       "[2699.0, 2199.0]"
      ]
     },
     "execution_count": 29,
     "metadata": {},
     "output_type": "execute_result"
    }
   ],
   "source": [
    "mie_precios.append(p)\n",
    "mie_precios"
   ]
  },
  {
   "cell_type": "code",
   "execution_count": 30,
   "id": "3ac72fd4",
   "metadata": {},
   "outputs": [
    {
     "data": {
      "text/plain": [
       "'1.359,00€'"
      ]
     },
     "execution_count": 30,
     "metadata": {},
     "output_type": "execute_result"
    }
   ],
   "source": [
    "p_d=driver.find_element(By.XPATH,'//*[@id=\"mod4560060\"]/div/div[1]/div[5]/div[2]/div[2]/div[1]/div[2]/div').text\n",
    "p_d"
   ]
  },
  {
   "cell_type": "code",
   "execution_count": 31,
   "id": "77e1bcd8",
   "metadata": {},
   "outputs": [
    {
     "data": {
      "text/plain": [
       "'1359.00'"
      ]
     },
     "execution_count": 31,
     "metadata": {},
     "output_type": "execute_result"
    }
   ],
   "source": [
    "p_d=p_d.replace('€','').replace('.','').replace(',','.')\n",
    "p_d"
   ]
  },
  {
   "cell_type": "code",
   "execution_count": 32,
   "id": "e64040bb",
   "metadata": {},
   "outputs": [
    {
     "data": {
      "text/plain": [
       "1359.0"
      ]
     },
     "execution_count": 32,
     "metadata": {},
     "output_type": "execute_result"
    }
   ],
   "source": [
    "p_d=float(p_d)\n",
    "p_d"
   ]
  },
  {
   "cell_type": "code",
   "execution_count": 33,
   "id": "0870b1af",
   "metadata": {},
   "outputs": [
    {
     "data": {
      "text/plain": [
       "[1599.0, 1359.0]"
      ]
     },
     "execution_count": 33,
     "metadata": {},
     "output_type": "execute_result"
    }
   ],
   "source": [
    "mie_desc_p.append(p_d)\n",
    "mie_desc_p"
   ]
  },
  {
   "cell_type": "code",
   "execution_count": 34,
   "id": "f188d915",
   "metadata": {},
   "outputs": [
    {
     "data": {
      "text/plain": [
       "'TV 55\" LG OLED C3 Evo (55C34LA) - 4K 120Hz, A9 (Gen6)'"
      ]
     },
     "execution_count": 34,
     "metadata": {},
     "output_type": "execute_result"
    }
   ],
   "source": [
    "n=driver.find_element(By.CLASS_NAME,'hF').text\n",
    "n"
   ]
  },
  {
   "cell_type": "code",
   "execution_count": 35,
   "id": "e21e7ae8",
   "metadata": {},
   "outputs": [
    {
     "data": {
      "text/plain": [
       "', Smart TV, Dolby Vision IQ/Atmos 40W, Gaming'"
      ]
     },
     "execution_count": 35,
     "metadata": {},
     "output_type": "execute_result"
    }
   ],
   "source": [
    "n_c=driver.find_element(By.CLASS_NAME,'h1Continua').text\n",
    "n_c"
   ]
  },
  {
   "cell_type": "code",
   "execution_count": 36,
   "id": "4961307a",
   "metadata": {},
   "outputs": [
    {
     "data": {
      "text/plain": [
       "'TV 65\" LG OLED B3 (65B36LA) - 4K 120Hz, A7 (Gen6) IA, Smart TV, Dolby Vision/Atmos 20W, Gaming, Smart TV, Dolby Vision IQ/Atmos 40W, Gaming'"
      ]
     },
     "execution_count": 36,
     "metadata": {},
     "output_type": "execute_result"
    }
   ],
   "source": [
    "n=n_1+n_c\n",
    "n"
   ]
  },
  {
   "cell_type": "code",
   "execution_count": 37,
   "id": "5c35fd89",
   "metadata": {},
   "outputs": [
    {
     "data": {
      "text/plain": [
       "['TV 65\" LG OLED B3 (65B36LA) - 4K 120Hz, A7 (Gen6) IA, Smart TV, Dolby Vision/Atmos 20W, Gaming',\n",
       " 'TV 65\" LG OLED B3 (65B36LA) - 4K 120Hz, A7 (Gen6) IA, Smart TV, Dolby Vision/Atmos 20W, Gaming, Smart TV, Dolby Vision IQ/Atmos 40W, Gaming']"
      ]
     },
     "execution_count": 37,
     "metadata": {},
     "output_type": "execute_result"
    }
   ],
   "source": [
    "mie_nombre.append(n)\n",
    "mie_nombre"
   ]
  },
  {
   "cell_type": "code",
   "execution_count": null,
   "id": "4f6a31a2",
   "metadata": {},
   "outputs": [],
   "source": []
  }
 ],
 "metadata": {
  "kernelspec": {
   "display_name": "Python 3 (ipykernel)",
   "language": "python",
   "name": "python3"
  },
  "language_info": {
   "codemirror_mode": {
    "name": "ipython",
    "version": 3
   },
   "file_extension": ".py",
   "mimetype": "text/x-python",
   "name": "python",
   "nbconvert_exporter": "python",
   "pygments_lexer": "ipython3",
   "version": "3.11.4"
  }
 },
 "nbformat": 4,
 "nbformat_minor": 5
}
