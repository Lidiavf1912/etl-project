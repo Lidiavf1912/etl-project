{
 "cells": [
  {
   "cell_type": "markdown",
   "id": "1d83b2f8",
   "metadata": {},
   "source": [
    "# EXTRACCIÓN Y LIMPIEZA DE TV BRANDS MARKET"
   ]
  },
  {
   "cell_type": "markdown",
   "id": "fa16dfae",
   "metadata": {},
   "source": [
    "Realizado por Lidia Viñuales"
   ]
  },
  {
   "cell_type": "code",
   "execution_count": 4,
   "id": "80f3b088",
   "metadata": {},
   "outputs": [],
   "source": [
    "import pandas as pd\n",
    "import numpy as np\n",
    "import re\n",
    "import warnings \n",
    "warnings.filterwarnings('ignore')\n",
    "pd.set_option('display.max_columns', None)"
   ]
  },
  {
   "cell_type": "code",
   "execution_count": 7,
   "id": "6481bbaa",
   "metadata": {},
   "outputs": [],
   "source": [
    "tv=pd.read_csv('../csv/TV_final.csv', encoding='iso-8859-1')"
   ]
  },
  {
   "cell_type": "code",
   "execution_count": 8,
   "id": "521330e0",
   "metadata": {},
   "outputs": [
    {
     "data": {
      "text/html": [
       "<div>\n",
       "<style scoped>\n",
       "    .dataframe tbody tr th:only-of-type {\n",
       "        vertical-align: middle;\n",
       "    }\n",
       "\n",
       "    .dataframe tbody tr th {\n",
       "        vertical-align: top;\n",
       "    }\n",
       "\n",
       "    .dataframe thead th {\n",
       "        text-align: right;\n",
       "    }\n",
       "</style>\n",
       "<table border=\"1\" class=\"dataframe\">\n",
       "  <thead>\n",
       "    <tr style=\"text-align: right;\">\n",
       "      <th></th>\n",
       "      <th>Brand</th>\n",
       "      <th>Resolution</th>\n",
       "      <th>Size</th>\n",
       "      <th>Selling Price</th>\n",
       "      <th>Original Price</th>\n",
       "      <th>Operating System</th>\n",
       "      <th>Rating</th>\n",
       "    </tr>\n",
       "  </thead>\n",
       "  <tbody>\n",
       "    <tr>\n",
       "      <th>0</th>\n",
       "      <td>TOSHIBA</td>\n",
       "      <td>Ultra HD LED</td>\n",
       "      <td>55</td>\n",
       "      <td>37999</td>\n",
       "      <td>54990</td>\n",
       "      <td>VIDAA</td>\n",
       "      <td>4.3</td>\n",
       "    </tr>\n",
       "    <tr>\n",
       "      <th>1</th>\n",
       "      <td>TCL</td>\n",
       "      <td>QLED Ultra HD</td>\n",
       "      <td>55</td>\n",
       "      <td>52999</td>\n",
       "      <td>129990</td>\n",
       "      <td>Android</td>\n",
       "      <td>4.4</td>\n",
       "    </tr>\n",
       "    <tr>\n",
       "      <th>2</th>\n",
       "      <td>realme</td>\n",
       "      <td>HD LED</td>\n",
       "      <td>32</td>\n",
       "      <td>13999</td>\n",
       "      <td>17999</td>\n",
       "      <td>Android</td>\n",
       "      <td>4.3</td>\n",
       "    </tr>\n",
       "    <tr>\n",
       "      <th>3</th>\n",
       "      <td>Mi</td>\n",
       "      <td>HD LED</td>\n",
       "      <td>32</td>\n",
       "      <td>14999</td>\n",
       "      <td>19999</td>\n",
       "      <td>Android</td>\n",
       "      <td>4.4</td>\n",
       "    </tr>\n",
       "    <tr>\n",
       "      <th>4</th>\n",
       "      <td>realme</td>\n",
       "      <td>HD LED</td>\n",
       "      <td>32</td>\n",
       "      <td>12999</td>\n",
       "      <td>21999</td>\n",
       "      <td>Android</td>\n",
       "      <td>4.3</td>\n",
       "    </tr>\n",
       "  </tbody>\n",
       "</table>\n",
       "</div>"
      ],
      "text/plain": [
       "     Brand     Resolution  Size   Selling Price  Original Price  \\\n",
       "0  TOSHIBA   Ultra HD LED     55          37999           54990   \n",
       "1     TCL   QLED Ultra HD     55          52999          129990   \n",
       "2  realme          HD LED     32          13999           17999   \n",
       "3      Mi          HD LED     32          14999           19999   \n",
       "4  realme          HD LED     32          12999           21999   \n",
       "\n",
       "  Operating System  Rating  \n",
       "0            VIDAA     4.3  \n",
       "1          Android     4.4  \n",
       "2          Android     4.3  \n",
       "3          Android     4.4  \n",
       "4          Android     4.3  "
      ]
     },
     "execution_count": 8,
     "metadata": {},
     "output_type": "execute_result"
    }
   ],
   "source": [
    "tv.head()"
   ]
  },
  {
   "cell_type": "markdown",
   "id": "1e47dd15",
   "metadata": {},
   "source": [
    "**Convierto los nombres de las columnas todas en minúsculas**"
   ]
  },
  {
   "cell_type": "code",
   "execution_count": 14,
   "id": "8f059991",
   "metadata": {},
   "outputs": [],
   "source": [
    "tv.columns=tv.columns.str.lower()"
   ]
  },
  {
   "cell_type": "code",
   "execution_count": 15,
   "id": "b1dd7d2e",
   "metadata": {},
   "outputs": [
    {
     "data": {
      "text/plain": [
       "Index(['brand', 'resolution', 'size ', 'selling price', 'original price',\n",
       "       'operating system', 'rating'],\n",
       "      dtype='object')"
      ]
     },
     "execution_count": 15,
     "metadata": {},
     "output_type": "execute_result"
    }
   ],
   "source": [
    "tv.columns"
   ]
  },
  {
   "cell_type": "code",
   "execution_count": null,
   "id": "14ff9f22",
   "metadata": {},
   "outputs": [],
   "source": []
  }
 ],
 "metadata": {
  "kernelspec": {
   "display_name": "Python 3 (ipykernel)",
   "language": "python",
   "name": "python3"
  },
  "language_info": {
   "codemirror_mode": {
    "name": "ipython",
    "version": 3
   },
   "file_extension": ".py",
   "mimetype": "text/x-python",
   "name": "python",
   "nbconvert_exporter": "python",
   "pygments_lexer": "ipython3",
   "version": "3.11.4"
  }
 },
 "nbformat": 4,
 "nbformat_minor": 5
}
