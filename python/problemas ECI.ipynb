{
 "cells": [
  {
   "cell_type": "markdown",
   "id": "45a58107",
   "metadata": {},
   "source": [
    "# SCRAPING DE ECI (EL CORTE INGLÉS)"
   ]
  },
  {
   "cell_type": "markdown",
   "id": "e675822b",
   "metadata": {},
   "source": [
    "Realizado por Lidia Viñuales"
   ]
  },
  {
   "cell_type": "code",
   "execution_count": 1,
   "id": "11a0c7c9",
   "metadata": {},
   "outputs": [],
   "source": [
    "import pandas as pd\n",
    "from selenium.webdriver.chrome.options import Options\n",
    "from webdriver_manager.chrome import ChromeDriverManager\n",
    "import re\n",
    "import numpy as np\n",
    "import math\n",
    "from selenium.webdriver.common.keys import Keys\n",
    "from selenium.webdriver.common.by import By"
   ]
  },
  {
   "cell_type": "code",
   "execution_count": 2,
   "id": "ddacfc2e",
   "metadata": {},
   "outputs": [],
   "source": [
    "#driver configuration\n",
    "opciones=Options()\n",
    "\n",
    "opciones.add_experimental_option('excludeSwitches', ['enable-automation'])\n",
    "opciones.add_experimental_option('useAutomationExtension', False)\n",
    "opciones.headless=False    # si True, no aperece la ventana (headless=no visible)\n",
    "opciones.add_argument('--start-maximized')         # comienza maximizado\n",
    "#opciones.add_argument('user-data-dir=selenium')    # mantiene las cookies\n",
    "#opciones.add_extension('driver_folder/adblock.crx')       # adblocker\n",
    "opciones.add_argument('--incognito')"
   ]
  },
  {
   "cell_type": "code",
   "execution_count": 3,
   "id": "4d829e97",
   "metadata": {},
   "outputs": [],
   "source": [
    "from selenium import webdriver\n",
    "from selenium.webdriver.common.by import By\n",
    "\n",
    "driver = webdriver.Chrome()\n",
    "driver.get('https://www.google.es')"
   ]
  },
  {
   "cell_type": "code",
   "execution_count": 4,
   "id": "ca6333a2",
   "metadata": {},
   "outputs": [],
   "source": [
    "url='https://www.elcorteingles.es/'"
   ]
  },
  {
   "cell_type": "code",
   "execution_count": 5,
   "id": "2e3a0539",
   "metadata": {},
   "outputs": [],
   "source": [
    "driver.get(url)"
   ]
  },
  {
   "cell_type": "markdown",
   "id": "8a5aa0e3",
   "metadata": {},
   "source": [
    "**Rechazo las coockies:**"
   ]
  },
  {
   "cell_type": "code",
   "execution_count": 6,
   "id": "d0c1b302",
   "metadata": {},
   "outputs": [],
   "source": [
    "driver.find_element(By.XPATH, '//*[@id=\"cookies-agree\"]').click()"
   ]
  },
  {
   "cell_type": "markdown",
   "id": "6171a905",
   "metadata": {},
   "source": [
    "**Una vez escrapeada la página web de LG vamos a escrapear los precios de los mismos productos en ECI para poder compararlos**"
   ]
  },
  {
   "cell_type": "markdown",
   "id": "6f276446",
   "metadata": {},
   "source": [
    "**Para ello vamos a coger el nombre del producto y lo vamos a buscar manualmente en ECI**"
   ]
  },
  {
   "cell_type": "markdown",
   "id": "bc35dba6",
   "metadata": {},
   "source": [
    "**En un futuro se podría automatizar esta búsqueda según el ID de cada producto**"
   ]
  },
  {
   "cell_type": "markdown",
   "id": "1f06ff30",
   "metadata": {},
   "source": [
    "**Creo una lista vacía a la que iré incorporando los precios de cada producto:**"
   ]
  },
  {
   "cell_type": "code",
   "execution_count": 7,
   "id": "7978a2bb",
   "metadata": {},
   "outputs": [],
   "source": [
    "mm_precios=[]"
   ]
  },
  {
   "cell_type": "markdown",
   "id": "88330728",
   "metadata": {},
   "source": [
    "**Creo una lista vacía a la que iré incorporando la descripción en Media Markt de cada producto:**"
   ]
  },
  {
   "cell_type": "code",
   "execution_count": 8,
   "id": "79f62c54",
   "metadata": {},
   "outputs": [],
   "source": [
    "mm_nombre=[]"
   ]
  },
  {
   "cell_type": "markdown",
   "id": "463d68b2",
   "metadata": {},
   "source": [
    "### PRODUCTO 0"
   ]
  },
  {
   "cell_type": "code",
   "execution_count": 9,
   "id": "7f3f845a",
   "metadata": {},
   "outputs": [],
   "source": [
    "driver.find_element(By.XPATH, '//*[@id=\"main_search\"]').click()"
   ]
  },
  {
   "cell_type": "code",
   "execution_count": 10,
   "id": "89218b32",
   "metadata": {},
   "outputs": [],
   "source": [
    "campo_busqueda=driver.find_element(By.XPATH, '//*[@id=\"main_search\"]')"
   ]
  },
  {
   "cell_type": "code",
   "execution_count": 11,
   "id": "b3fa3e63",
   "metadata": {},
   "outputs": [],
   "source": [
    "campo_busqueda.send_keys('oled88z29la')"
   ]
  },
  {
   "cell_type": "code",
   "execution_count": 12,
   "id": "95eea7f3",
   "metadata": {},
   "outputs": [],
   "source": [
    "#campo_busqueda.send_keys(Keys.RETURN)"
   ]
  },
  {
   "cell_type": "markdown",
   "id": "86104ba1",
   "metadata": {},
   "source": [
    "Sacamos el precio del producto:"
   ]
  },
  {
   "cell_type": "code",
   "execution_count": 13,
   "id": "4db32256",
   "metadata": {},
   "outputs": [],
   "source": [
    "#p_0=driver.find_element(By.CLASS_NAME, 'sc-ee3c983c-0.hIwOCI').text"
   ]
  },
  {
   "cell_type": "code",
   "execution_count": 14,
   "id": "b2ccdeba",
   "metadata": {},
   "outputs": [],
   "source": [
    "#p_0 = re.search(r'\\d+,\\d+', p_0).group()\n",
    "#p_0"
   ]
  },
  {
   "cell_type": "code",
   "execution_count": 15,
   "id": "61f820fd",
   "metadata": {},
   "outputs": [],
   "source": [
    "#mm_precios.append(p_0)\n",
    "#mm_precios"
   ]
  },
  {
   "cell_type": "markdown",
   "id": "3e356799",
   "metadata": {},
   "source": [
    "Sacamos el nombre del producto:"
   ]
  },
  {
   "cell_type": "code",
   "execution_count": 16,
   "id": "4a7f3d83",
   "metadata": {},
   "outputs": [],
   "source": [
    "#n_0=driver.find_element(By.CLASS_NAME, 'sc-db43135e-1.gpEOUZ.sc-b0d9c874-0.gJSJVL').text\n",
    "#n_0"
   ]
  },
  {
   "cell_type": "code",
   "execution_count": 17,
   "id": "4a5a5dee",
   "metadata": {},
   "outputs": [],
   "source": [
    "#mm_nombre.append(n_0)\n",
    "#mm_nombre"
   ]
  },
  {
   "cell_type": "markdown",
   "id": "153fb560",
   "metadata": {},
   "source": [
    "## PRODUCTO 1"
   ]
  },
  {
   "cell_type": "code",
   "execution_count": null,
   "id": "0a10b8fc",
   "metadata": {},
   "outputs": [],
   "source": []
  }
 ],
 "metadata": {
  "kernelspec": {
   "display_name": "Python 3 (ipykernel)",
   "language": "python",
   "name": "python3"
  },
  "language_info": {
   "codemirror_mode": {
    "name": "ipython",
    "version": 3
   },
   "file_extension": ".py",
   "mimetype": "text/x-python",
   "name": "python",
   "nbconvert_exporter": "python",
   "pygments_lexer": "ipython3",
   "version": "3.11.4"
  }
 },
 "nbformat": 4,
 "nbformat_minor": 5
}
