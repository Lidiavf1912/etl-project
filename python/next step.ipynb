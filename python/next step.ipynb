{
 "cells": [
  {
   "cell_type": "code",
   "execution_count": 1,
   "id": "322c237b",
   "metadata": {},
   "outputs": [],
   "source": [
    "import pandas as pd\n",
    "from selenium.webdriver.chrome.options import Options\n",
    "from webdriver_manager.chrome import ChromeDriverManager\n",
    "import re\n",
    "import numpy as np\n",
    "import math\n",
    "import re\n",
    "from selenium.webdriver.common.keys import Keys\n",
    "from selenium.webdriver.common.by import By\n",
    "import time"
   ]
  },
  {
   "cell_type": "code",
   "execution_count": 2,
   "id": "dc69899d",
   "metadata": {},
   "outputs": [],
   "source": [
    "#driver configuration\n",
    "opciones=Options()\n",
    "\n",
    "opciones.add_experimental_option('excludeSwitches', ['enable-automation'])\n",
    "opciones.add_experimental_option('useAutomationExtension', False)\n",
    "opciones.headless=False    # si True, no aperece la ventana (headless=no visible)\n",
    "opciones.add_argument('--start-maximized')         # comienza maximizado\n",
    "#opciones.add_argument('user-data-dir=selenium')    # mantiene las cookies\n",
    "#opciones.add_extension('driver_folder/adblock.crx')       # adblocker\n",
    "opciones.add_argument('--incognito')"
   ]
  },
  {
   "cell_type": "code",
   "execution_count": 3,
   "id": "75d5ad22",
   "metadata": {},
   "outputs": [],
   "source": [
    "from selenium import webdriver\n",
    "from selenium.webdriver.common.by import By\n",
    "\n",
    "\n",
    "driver = webdriver.Chrome()\n",
    "driver.get('https://www.google.es')"
   ]
  },
  {
   "cell_type": "code",
   "execution_count": 4,
   "id": "062ba024",
   "metadata": {},
   "outputs": [],
   "source": [
    "url='https://www.mielectro.es/'"
   ]
  },
  {
   "cell_type": "code",
   "execution_count": 5,
   "id": "73960dbf",
   "metadata": {},
   "outputs": [],
   "source": [
    "driver.get(url)"
   ]
  },
  {
   "cell_type": "markdown",
   "id": "66ace036",
   "metadata": {},
   "source": [
    "**Rechazo las coockies:**"
   ]
  },
  {
   "cell_type": "code",
   "execution_count": 6,
   "id": "6e62f9f2",
   "metadata": {},
   "outputs": [],
   "source": [
    "driver.find_element(By.XPATH, '//*[@id=\"cookieRechazar\"]').click()"
   ]
  },
  {
   "cell_type": "code",
   "execution_count": 7,
   "id": "51d9ac8c",
   "metadata": {},
   "outputs": [],
   "source": [
    "mie_precios=[]"
   ]
  },
  {
   "cell_type": "code",
   "execution_count": 8,
   "id": "3b39a01c",
   "metadata": {},
   "outputs": [],
   "source": [
    "mie_desc_p=[]"
   ]
  },
  {
   "cell_type": "code",
   "execution_count": 9,
   "id": "590115d9",
   "metadata": {},
   "outputs": [],
   "source": [
    "mie_nombre=[]"
   ]
  },
  {
   "cell_type": "code",
   "execution_count": 10,
   "id": "b4e93c67",
   "metadata": {},
   "outputs": [
    {
     "data": {
      "text/plain": [
       "['oled88z29la',\n",
       " 'oled65b36lad',\n",
       " 'oled65g26la',\n",
       " 'oled48c25lb',\n",
       " 'oled48c25la',\n",
       " 'oled55c34lad',\n",
       " 'oled55g26la',\n",
       " 'oled77g36la',\n",
       " 'sr23ga']"
      ]
     },
     "execution_count": 10,
     "metadata": {},
     "output_type": "execute_result"
    }
   ],
   "source": [
    "id=['oled88z29la',\n",
    " 'oled65b36lad',\n",
    " 'oled65g26la',\n",
    " 'oled48c25lb',\n",
    " 'oled48c25la',\n",
    " 'oled55c34lad',\n",
    " 'oled55g26la',\n",
    " 'oled77g36la',\n",
    " 'sr23ga']\n",
    "id"
   ]
  },
  {
   "cell_type": "markdown",
   "id": "593466ce",
   "metadata": {},
   "source": [
    "for e in id:\n",
    "    try:\n",
    "        driver.find_element(By.XPATH, '//*[@id=\"nbf5477759eef68f\"]').click()\n",
    "        campo_busqueda=driver.find_element(By.XPATH, '//*[@id=\"nbf5477759eef68f\"]')\n",
    "        campo_busqueda.send_keys(e)\n",
    "        campo_busqueda.send_keys(Keys.RETURN)\n",
    "        p_1=driver.find_element(By.XPATH,'//*[@id=\"mod4560060\"]/div/div[1]/div[5]/div[2]/div[2]/div[1]/div[1]').text\n",
    "        match = re.search(r'(\\d+)', p_1)\n",
    "        p_1 = float(match.group(1))\n",
    "        mie_precios.append(p_1)\n",
    "        p_d_1=driver.find_element(By.XPATH,'//*[@id=\"mod4560060\"]/div/div[1]/div[5]/div[2]/div[2]/div[1]/div[2]/div').text\n",
    "        p_d_1=p_d_1.replace('€','').replace('.','').replace(',','.')\n",
    "        p_d_1=float(p_d_1)\n",
    "        mie_desc_p.append(p_d_1)\n",
    "        n_1=driver.find_element(By.CLASS_NAME,'hF').text\n",
    "        n_c_1=driver.find_element(By.CLASS_NAME,'h1Continua').text\n",
    "        n_1=n_1+n_c_1\n",
    "        mie_nombre.append(n_1)\n",
    "    except:\n",
    "        print('no hay')\n",
    "        continue\n",
    "        "
   ]
  },
  {
   "cell_type": "markdown",
   "id": "48b36d2a",
   "metadata": {},
   "source": [
    "driver.find_element(By.XPATH, '//*[@id=\"nbf5477759eef68f\"]').click()"
   ]
  },
  {
   "cell_type": "markdown",
   "id": "5130343f",
   "metadata": {},
   "source": [
    "campo_busqueda=driver.find_element(By.XPATH, '//*[@id=\"nbf5477759eef68f\"]')\n",
    "campo_busqueda"
   ]
  },
  {
   "cell_type": "markdown",
   "id": "f498f2ba",
   "metadata": {},
   "source": [
    "campo_busqueda.send_keys('65b36lad')"
   ]
  },
  {
   "cell_type": "markdown",
   "id": "b6c0897f",
   "metadata": {},
   "source": [
    "campo_busqueda.send_keys(Keys.RETURN)"
   ]
  },
  {
   "cell_type": "code",
   "execution_count": 11,
   "id": "9c1d4afd",
   "metadata": {},
   "outputs": [],
   "source": [
    "        driver.find_element(By.XPATH, '//*[@id=\"nbf5477759eef68f\"]').click()\n",
    "        campo_busqueda=driver.find_element(By.XPATH, '//*[@id=\"nbf5477759eef68f\"]')\n",
    "        campo_busqueda.send_keys('oled65b36lad')\n"
   ]
  },
  {
   "cell_type": "code",
   "execution_count": 15,
   "id": "0a75fa35",
   "metadata": {},
   "outputs": [
    {
     "ename": "ElementNotInteractableException",
     "evalue": "Message: element not interactable\n  (Session info: chrome=119.0.6045.106)\nStacktrace:\n\tGetHandleVerifier [0x00007FF6C97E82B2+55298]\n\t(No symbol) [0x00007FF6C9755E02]\n\t(No symbol) [0x00007FF6C961045D]\n\t(No symbol) [0x00007FF6C9652B4C]\n\t(No symbol) [0x00007FF6C96487BF]\n\t(No symbol) [0x00007FF6C96720AA]\n\t(No symbol) [0x00007FF6C96480CF]\n\t(No symbol) [0x00007FF6C96722C0]\n\t(No symbol) [0x00007FF6C968AAA4]\n\t(No symbol) [0x00007FF6C9671E83]\n\t(No symbol) [0x00007FF6C964670A]\n\t(No symbol) [0x00007FF6C9647964]\n\tGetHandleVerifier [0x00007FF6C9B60AAB+3694587]\n\tGetHandleVerifier [0x00007FF6C9BB728E+4048862]\n\tGetHandleVerifier [0x00007FF6C9BAF173+4015811]\n\tGetHandleVerifier [0x00007FF6C98847D6+695590]\n\t(No symbol) [0x00007FF6C9760CE8]\n\t(No symbol) [0x00007FF6C975CF34]\n\t(No symbol) [0x00007FF6C975D062]\n\t(No symbol) [0x00007FF6C974D3A3]\n\tBaseThreadInitThunk [0x00007FFFA87D7344+20]\n\tRtlUserThreadStart [0x00007FFFA8CC26B1+33]\n",
     "output_type": "error",
     "traceback": [
      "\u001b[1;31m---------------------------------------------------------------------------\u001b[0m",
      "\u001b[1;31mElementNotInteractableException\u001b[0m           Traceback (most recent call last)",
      "Cell \u001b[1;32mIn[15], line 2\u001b[0m\n\u001b[0;32m      1\u001b[0m boton\u001b[38;5;241m=\u001b[39mdriver\u001b[38;5;241m.\u001b[39mfind_elements(By\u001b[38;5;241m.\u001b[39mCLASS_NAME, \u001b[38;5;124m'\u001b[39m\u001b[38;5;124mdfd-btn-term-filter\u001b[39m\u001b[38;5;124m'\u001b[39m)\n\u001b[1;32m----> 2\u001b[0m boton[\u001b[38;5;241m12\u001b[39m]\u001b[38;5;241m.\u001b[39mclick()\n",
      "File \u001b[1;32m~\\anaconda3\\Lib\\site-packages\\selenium\\webdriver\\remote\\webelement.py:93\u001b[0m, in \u001b[0;36mWebElement.click\u001b[1;34m(self)\u001b[0m\n\u001b[0;32m     91\u001b[0m \u001b[38;5;28;01mdef\u001b[39;00m \u001b[38;5;21mclick\u001b[39m(\u001b[38;5;28mself\u001b[39m) \u001b[38;5;241m-\u001b[39m\u001b[38;5;241m>\u001b[39m \u001b[38;5;28;01mNone\u001b[39;00m:\n\u001b[0;32m     92\u001b[0m \u001b[38;5;250m    \u001b[39m\u001b[38;5;124;03m\"\"\"Clicks the element.\"\"\"\u001b[39;00m\n\u001b[1;32m---> 93\u001b[0m     \u001b[38;5;28mself\u001b[39m\u001b[38;5;241m.\u001b[39m_execute(Command\u001b[38;5;241m.\u001b[39mCLICK_ELEMENT)\n",
      "File \u001b[1;32m~\\anaconda3\\Lib\\site-packages\\selenium\\webdriver\\remote\\webelement.py:394\u001b[0m, in \u001b[0;36mWebElement._execute\u001b[1;34m(self, command, params)\u001b[0m\n\u001b[0;32m    392\u001b[0m     params \u001b[38;5;241m=\u001b[39m {}\n\u001b[0;32m    393\u001b[0m params[\u001b[38;5;124m\"\u001b[39m\u001b[38;5;124mid\u001b[39m\u001b[38;5;124m\"\u001b[39m] \u001b[38;5;241m=\u001b[39m \u001b[38;5;28mself\u001b[39m\u001b[38;5;241m.\u001b[39m_id\n\u001b[1;32m--> 394\u001b[0m \u001b[38;5;28;01mreturn\u001b[39;00m \u001b[38;5;28mself\u001b[39m\u001b[38;5;241m.\u001b[39m_parent\u001b[38;5;241m.\u001b[39mexecute(command, params)\n",
      "File \u001b[1;32m~\\anaconda3\\Lib\\site-packages\\selenium\\webdriver\\remote\\webdriver.py:344\u001b[0m, in \u001b[0;36mWebDriver.execute\u001b[1;34m(self, driver_command, params)\u001b[0m\n\u001b[0;32m    342\u001b[0m response \u001b[38;5;241m=\u001b[39m \u001b[38;5;28mself\u001b[39m\u001b[38;5;241m.\u001b[39mcommand_executor\u001b[38;5;241m.\u001b[39mexecute(driver_command, params)\n\u001b[0;32m    343\u001b[0m \u001b[38;5;28;01mif\u001b[39;00m response:\n\u001b[1;32m--> 344\u001b[0m     \u001b[38;5;28mself\u001b[39m\u001b[38;5;241m.\u001b[39merror_handler\u001b[38;5;241m.\u001b[39mcheck_response(response)\n\u001b[0;32m    345\u001b[0m     response[\u001b[38;5;124m\"\u001b[39m\u001b[38;5;124mvalue\u001b[39m\u001b[38;5;124m\"\u001b[39m] \u001b[38;5;241m=\u001b[39m \u001b[38;5;28mself\u001b[39m\u001b[38;5;241m.\u001b[39m_unwrap_value(response\u001b[38;5;241m.\u001b[39mget(\u001b[38;5;124m\"\u001b[39m\u001b[38;5;124mvalue\u001b[39m\u001b[38;5;124m\"\u001b[39m, \u001b[38;5;28;01mNone\u001b[39;00m))\n\u001b[0;32m    346\u001b[0m     \u001b[38;5;28;01mreturn\u001b[39;00m response\n",
      "File \u001b[1;32m~\\anaconda3\\Lib\\site-packages\\selenium\\webdriver\\remote\\errorhandler.py:229\u001b[0m, in \u001b[0;36mErrorHandler.check_response\u001b[1;34m(self, response)\u001b[0m\n\u001b[0;32m    227\u001b[0m         alert_text \u001b[38;5;241m=\u001b[39m value[\u001b[38;5;124m\"\u001b[39m\u001b[38;5;124malert\u001b[39m\u001b[38;5;124m\"\u001b[39m]\u001b[38;5;241m.\u001b[39mget(\u001b[38;5;124m\"\u001b[39m\u001b[38;5;124mtext\u001b[39m\u001b[38;5;124m\"\u001b[39m)\n\u001b[0;32m    228\u001b[0m     \u001b[38;5;28;01mraise\u001b[39;00m exception_class(message, screen, stacktrace, alert_text)  \u001b[38;5;66;03m# type: ignore[call-arg]  # mypy is not smart enough here\u001b[39;00m\n\u001b[1;32m--> 229\u001b[0m \u001b[38;5;28;01mraise\u001b[39;00m exception_class(message, screen, stacktrace)\n",
      "\u001b[1;31mElementNotInteractableException\u001b[0m: Message: element not interactable\n  (Session info: chrome=119.0.6045.106)\nStacktrace:\n\tGetHandleVerifier [0x00007FF6C97E82B2+55298]\n\t(No symbol) [0x00007FF6C9755E02]\n\t(No symbol) [0x00007FF6C961045D]\n\t(No symbol) [0x00007FF6C9652B4C]\n\t(No symbol) [0x00007FF6C96487BF]\n\t(No symbol) [0x00007FF6C96720AA]\n\t(No symbol) [0x00007FF6C96480CF]\n\t(No symbol) [0x00007FF6C96722C0]\n\t(No symbol) [0x00007FF6C968AAA4]\n\t(No symbol) [0x00007FF6C9671E83]\n\t(No symbol) [0x00007FF6C964670A]\n\t(No symbol) [0x00007FF6C9647964]\n\tGetHandleVerifier [0x00007FF6C9B60AAB+3694587]\n\tGetHandleVerifier [0x00007FF6C9BB728E+4048862]\n\tGetHandleVerifier [0x00007FF6C9BAF173+4015811]\n\tGetHandleVerifier [0x00007FF6C98847D6+695590]\n\t(No symbol) [0x00007FF6C9760CE8]\n\t(No symbol) [0x00007FF6C975CF34]\n\t(No symbol) [0x00007FF6C975D062]\n\t(No symbol) [0x00007FF6C974D3A3]\n\tBaseThreadInitThunk [0x00007FFFA87D7344+20]\n\tRtlUserThreadStart [0x00007FFFA8CC26B1+33]\n"
     ]
    }
   ],
   "source": [
    "boton=driver.find_elements(By.CLASS_NAME, 'dfd-btn-term-filter')\n"
   ]
  },
  {
   "cell_type": "markdown",
   "id": "3f37f233",
   "metadata": {},
   "source": [
    "        p_1=driver.find_element(By.XPATH,'//*[@id=\"mod4560060\"]/div/div[1]/div[5]/div[2]/div[2]/div[1]/div[1]').text"
   ]
  },
  {
   "cell_type": "markdown",
   "id": "4c7427d5",
   "metadata": {},
   "source": [
    "\n",
    "        match = re.search(r'(\\d+)', p_1)\n",
    "        p_1 = float(match.group(1))\n",
    "        mie_precios.append(p_1)\n",
    "        p_d_1=driver.find_element(By.XPATH,'//*[@id=\"mod4560060\"]/div/div[1]/div[5]/div[2]/div[2]/div[1]/div[2]/div').text\n",
    "        p_d_1=p_d_1.replace('€','').replace('.','').replace(',','.')\n",
    "        p_d_1=float(p_d_1)\n",
    "        mie_desc_p.append(p_d_1)\n",
    "        n_1=driver.find_element(By.CLASS_NAME,'hF').text\n",
    "        n_c_1=driver.find_element(By.CLASS_NAME,'h1Continua').text\n",
    "        n_1=n_1+n_c_1\n",
    "        mie_nombre.append(n_1)"
   ]
  }
 ],
 "metadata": {
  "kernelspec": {
   "display_name": "Python 3 (ipykernel)",
   "language": "python",
   "name": "python3"
  },
  "language_info": {
   "codemirror_mode": {
    "name": "ipython",
    "version": 3
   },
   "file_extension": ".py",
   "mimetype": "text/x-python",
   "name": "python",
   "nbconvert_exporter": "python",
   "pygments_lexer": "ipython3",
   "version": "3.11.4"
  }
 },
 "nbformat": 4,
 "nbformat_minor": 5
}
