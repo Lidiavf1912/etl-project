{
 "cells": [
  {
   "cell_type": "markdown",
   "id": "e0d5c175",
   "metadata": {},
   "source": [
    "# SCRAPING DE LG OUTLET"
   ]
  },
  {
   "cell_type": "markdown",
   "id": "3bb40f8e",
   "metadata": {},
   "source": [
    "Realizado por Lidia Viñuales"
   ]
  },
  {
   "cell_type": "code",
   "execution_count": 1,
   "id": "d0eb8b8a",
   "metadata": {},
   "outputs": [],
   "source": [
    "import pandas as pd\n",
    "from selenium.webdriver.chrome.options import Options\n",
    "from webdriver_manager.chrome import ChromeDriverManager\n",
    "import re\n",
    "import numpy as np\n",
    "import math"
   ]
  },
  {
   "cell_type": "code",
   "execution_count": 2,
   "id": "e60d1775",
   "metadata": {},
   "outputs": [],
   "source": [
    "#driver configuration\n",
    "opciones=Options()\n",
    "\n",
    "opciones.add_experimental_option('excludeSwitches', ['enable-automation'])\n",
    "opciones.add_experimental_option('useAutomationExtension', False)\n",
    "opciones.headless=False    # si True, no aperece la ventana (headless=no visible)\n",
    "opciones.add_argument('--start-maximized')         # comienza maximizado\n",
    "#opciones.add_argument('user-data-dir=selenium')    # mantiene las cookies\n",
    "#opciones.add_extension('driver_folder/adblock.crx')       # adblocker\n",
    "opciones.add_argument('--incognito')"
   ]
  },
  {
   "cell_type": "code",
   "execution_count": 3,
   "id": "ae35a72b",
   "metadata": {},
   "outputs": [],
   "source": [
    "from selenium import webdriver\n",
    "from selenium.webdriver.common.by import By\n",
    "\n",
    "PATH = 'driver/chromedriver.exe'\n",
    "\n",
    "driver = webdriver.Chrome()\n",
    "driver.get('https://www.google.es')"
   ]
  },
  {
   "cell_type": "code",
   "execution_count": 4,
   "id": "a2dd7d38",
   "metadata": {},
   "outputs": [],
   "source": [
    "url = 'https://www.tiendalgonline.com/oled-tv-lg-outlet/'"
   ]
  },
  {
   "cell_type": "code",
   "execution_count": 5,
   "id": "ba38310e",
   "metadata": {},
   "outputs": [],
   "source": [
    "driver.get(url)"
   ]
  },
  {
   "cell_type": "code",
   "execution_count": 6,
   "id": "27ec55ce",
   "metadata": {},
   "outputs": [],
   "source": [
    "driver.find_element(By.CSS_SELECTOR, '#CybotCookiebotDialogBodyLevelButtonLevelOptinDeclineAll').click()"
   ]
  },
  {
   "cell_type": "code",
   "execution_count": 7,
   "id": "5d948246",
   "metadata": {},
   "outputs": [
    {
     "data": {
      "text/plain": [
       "'Outlet TV LG SIGNATURE 8K OLED , 222cm (88\")\\nProcesador Inteligente de Máxima Potencia 8K a9 Gen 5 con IA, compatible...\\nOLED88Z29LA.AEU\\nFicha de información del producto\\nPVPR 24.999,00 € 10.999,00 € 56%\\nCOMPRAR'"
      ]
     },
     "execution_count": 7,
     "metadata": {},
     "output_type": "execute_result"
    }
   ],
   "source": [
    "driver.find_elements(By.CLASS_NAME, 'product-description')[0].text"
   ]
  },
  {
   "cell_type": "code",
   "execution_count": 8,
   "id": "87e884a9",
   "metadata": {},
   "outputs": [
    {
     "data": {
      "text/plain": [
       "27"
      ]
     },
     "execution_count": 8,
     "metadata": {},
     "output_type": "execute_result"
    }
   ],
   "source": [
    "len(driver.find_elements(By.CLASS_NAME, 'product-description'))"
   ]
  },
  {
   "cell_type": "code",
   "execution_count": 9,
   "id": "22b41cb2",
   "metadata": {},
   "outputs": [
    {
     "name": "stdout",
     "output_type": "stream",
     "text": [
      "1 Outlet TV LG SIGNATURE 8K OLED , 222cm (88\")\n",
      "Procesador Inteligente de Máxima Potencia 8K a9 Gen 5 con IA, compatible...\n",
      "OLED88Z29LA.AEU\n",
      "Ficha de información del producto\n",
      "PVPR 24.999,00 € 10.999,00 € 56%\n",
      "COMPRAR\n",
      "2 \n",
      "3 \n",
      "4 Outlet TV LG OLED 4K de 65'' B3, Procesador Gran...\n",
      "TV LG OLED evo 4K de 65'' B3, Procesador Máxima Potencia, Dolby Vision /...\n",
      "OLED65B36LA.AEUD\n",
      "Ficha de información del producto\n",
      "PVPR 2.699,00 € 1.529,01 € 43%\n",
      "COMPRAR\n",
      "5 \n",
      "6 \n",
      "7 Outlet TV LG 4K OLED evo, GALLERY, 164cm (65\")\n",
      "Televisor LG 4K OLED evo Gallery Edition, Procesador Inteligente de Máxima...\n",
      "OLED65G26LA.AEU\n",
      "Ficha de información del producto\n",
      "PVPR 3.299,00 € 1.899,00 € 42%\n",
      "COMPRAR\n",
      "8 \n",
      "9 \n",
      "10 Outlet TV LG 4K OLED evo, SmartTV, 122 cm (48\")\n",
      " Procesador Inteligente de Máxima Potencia 4K a9 Gen 5 con IA, compatible...\n",
      "OLED48C25LB.AEU\n",
      "Ficha de información del producto\n",
      "PVPR 1.599,00 € 939,11 € 41%\n",
      "COMPRAR\n",
      "11 \n",
      "12 \n",
      "13 Outlet TV LG 4K OLED EVO, SmartTV, 120 cm (48\")\n",
      "TV LG  4K OLED evo, Procesador Inteligente de Máxima Potencia 4K a9 Gen 5...\n",
      "OLED48C25LA.AEU\n",
      "PVPR 1.599,00 € 938,68 € 41%\n",
      "COMPRAR\n",
      "14 \n",
      "15 \n",
      "16 Outlet TV LG OLED evo 4K de 55'' C3, Procesador...\n",
      "TV LG OLED evo 4K de 55'' C3, Procesador Máxima Potencia, Dolby Vision /...\n",
      "OLED55C34LA.AEUD\n",
      "Ficha de información del producto\n",
      "PVPR 2.199,00 € 1.319,00 € 40%\n",
      "COMPRAR\n",
      "17 \n",
      "18 \n",
      "19 Outlet TV LG 4K OLED evo, GALLERY, 139cm (55\")\n",
      "Televisor LG 4K OLED evo Gallery Edition, Procesador Inteligente de Máxima...\n",
      "OLED55G26LA.AEU\n",
      "Ficha de información del producto\n",
      "PVPR 2.299,00 € 1.479,00 € 35%\n",
      "COMPRAR\n",
      "20 \n",
      "21 \n",
      "22 Outlet TV LG OLED evo 4K de 77'' G3, Procesador...\n",
      "TV LG OLED evo 4K de 77' G3, Procesador Máxima Potencia, Dolby Vision /...\n",
      "OLED77G36LA.AEU\n",
      "Ficha de información del producto\n",
      "PVPR 5.199,00 € 3.419,00 € 34%\n",
      "COMPRAR\n",
      "23 \n",
      "24 \n",
      "25 Outlet Mando universal para televisores LG por...\n",
      "Dimensiones: 47.2 x 169.8 x 21.9 (103g)\n",
      "SR23GA.AEU\n",
      "PVPR 9,87 €\n",
      "COMPRAR\n",
      "26 \n",
      "27 \n"
     ]
    }
   ],
   "source": [
    "n=0\n",
    "for i in driver.find_elements(By.CLASS_NAME, 'product-description'):\n",
    "    n+=1\n",
    "    print (n, i.text)"
   ]
  },
  {
   "cell_type": "code",
   "execution_count": 10,
   "id": "49a2d6c8",
   "metadata": {},
   "outputs": [],
   "source": [
    "tablas=driver.find_elements(By.CLASS_NAME, 'product-description')"
   ]
  },
  {
   "cell_type": "code",
   "execution_count": 11,
   "id": "e0592efa",
   "metadata": {},
   "outputs": [],
   "source": [
    "tabla_limpia=[]\n",
    "for e in driver.find_elements(By.CLASS_NAME, 'product-description'):\n",
    "    if e != '':\n",
    "        tabla_limpia.append(e)"
   ]
  },
  {
   "cell_type": "code",
   "execution_count": 12,
   "id": "f2fa9429",
   "metadata": {},
   "outputs": [
    {
     "name": "stdout",
     "output_type": "stream",
     "text": [
      "0 Outlet TV LG SIGNATURE 8K OLED , 222cm (88\")\n",
      "Procesador Inteligente de Máxima Potencia 8K a9 Gen 5 con IA, compatible...\n",
      "OLED88Z29LA.AEU\n",
      "Ficha de información del producto\n",
      "PVPR 24.999,00 € 10.999,00 € 56%\n",
      "COMPRAR\n",
      "1 \n",
      "2 \n",
      "3 Outlet TV LG OLED 4K de 65'' B3, Procesador Gran...\n",
      "TV LG OLED evo 4K de 65'' B3, Procesador Máxima Potencia, Dolby Vision /...\n",
      "OLED65B36LA.AEUD\n",
      "Ficha de información del producto\n",
      "PVPR 2.699,00 € 1.529,01 € 43%\n",
      "COMPRAR\n",
      "4 \n",
      "5 \n",
      "6 Outlet TV LG 4K OLED evo, GALLERY, 164cm (65\")\n",
      "Televisor LG 4K OLED evo Gallery Edition, Procesador Inteligente de Máxima...\n",
      "OLED65G26LA.AEU\n",
      "Ficha de información del producto\n",
      "PVPR 3.299,00 € 1.899,00 € 42%\n",
      "COMPRAR\n",
      "7 \n",
      "8 \n",
      "9 Outlet TV LG 4K OLED evo, SmartTV, 122 cm (48\")\n",
      " Procesador Inteligente de Máxima Potencia 4K a9 Gen 5 con IA, compatible...\n",
      "OLED48C25LB.AEU\n",
      "Ficha de información del producto\n",
      "PVPR 1.599,00 € 939,11 € 41%\n",
      "COMPRAR\n",
      "10 \n",
      "11 \n",
      "12 Outlet TV LG 4K OLED EVO, SmartTV, 120 cm (48\")\n",
      "TV LG  4K OLED evo, Procesador Inteligente de Máxima Potencia 4K a9 Gen 5...\n",
      "OLED48C25LA.AEU\n",
      "PVPR 1.599,00 € 938,68 € 41%\n",
      "COMPRAR\n",
      "13 \n",
      "14 \n",
      "15 Outlet TV LG OLED evo 4K de 55'' C3, Procesador...\n",
      "TV LG OLED evo 4K de 55'' C3, Procesador Máxima Potencia, Dolby Vision /...\n",
      "OLED55C34LA.AEUD\n",
      "Ficha de información del producto\n",
      "PVPR 2.199,00 € 1.319,00 € 40%\n",
      "COMPRAR\n",
      "16 \n",
      "17 \n",
      "18 Outlet TV LG 4K OLED evo, GALLERY, 139cm (55\")\n",
      "Televisor LG 4K OLED evo Gallery Edition, Procesador Inteligente de Máxima...\n",
      "OLED55G26LA.AEU\n",
      "Ficha de información del producto\n",
      "PVPR 2.299,00 € 1.479,00 € 35%\n",
      "COMPRAR\n",
      "19 \n",
      "20 \n",
      "21 Outlet TV LG OLED evo 4K de 77'' G3, Procesador...\n",
      "TV LG OLED evo 4K de 77' G3, Procesador Máxima Potencia, Dolby Vision /...\n",
      "OLED77G36LA.AEU\n",
      "Ficha de información del producto\n",
      "PVPR 5.199,00 € 3.419,00 € 34%\n",
      "COMPRAR\n",
      "22 \n",
      "23 \n",
      "24 Outlet Mando universal para televisores LG por...\n",
      "Dimensiones: 47.2 x 169.8 x 21.9 (103g)\n",
      "SR23GA.AEU\n",
      "PVPR 9,87 €\n",
      "COMPRAR\n",
      "25 \n",
      "26 \n"
     ]
    }
   ],
   "source": [
    "n=-1\n",
    "for i in tabla_limpia:\n",
    "    n+=1\n",
    "    print (n, i.text)"
   ]
  },
  {
   "cell_type": "code",
   "execution_count": 13,
   "id": "5bcaa7f5",
   "metadata": {},
   "outputs": [
    {
     "data": {
      "text/plain": [
       "'Outlet TV LG SIGNATURE 8K OLED , 222cm (88\")\\nProcesador Inteligente de Máxima Potencia 8K a9 Gen 5 con IA, compatible...\\nOLED88Z29LA.AEU\\nFicha de información del producto\\nPVPR 24.999,00 € 10.999,00 € 56%\\nCOMPRAR'"
      ]
     },
     "execution_count": 13,
     "metadata": {},
     "output_type": "execute_result"
    }
   ],
   "source": [
    "tabla_limpia[0].text"
   ]
  },
  {
   "cell_type": "code",
   "execution_count": 14,
   "id": "6291a104",
   "metadata": {},
   "outputs": [
    {
     "data": {
      "text/plain": [
       "['Outlet TV LG SIGNATURE 8K OLED ',\n",
       " ' 222cm (88\")\\nProcesador Inteligente de Máxima Potencia 8K a9 Gen 5 con IA',\n",
       " ' compatible...\\nOLED88Z29LA.AEU\\nFicha de información del producto\\nPVPR 24.999',\n",
       " '00 € 10.999',\n",
       " '00 € 56%\\nCOMPRAR']"
      ]
     },
     "execution_count": 14,
     "metadata": {},
     "output_type": "execute_result"
    }
   ],
   "source": [
    "tabla_limpia[0].text.split(\",\")"
   ]
  },
  {
   "cell_type": "code",
   "execution_count": 15,
   "id": "1815b5ac",
   "metadata": {},
   "outputs": [],
   "source": [
    "nombre_producto = tabla_limpia[0].text.split(\",\")[0]"
   ]
  },
  {
   "cell_type": "code",
   "execution_count": 16,
   "id": "b02871e6",
   "metadata": {},
   "outputs": [],
   "source": [
    "diic = {\"name\":nombre_producto}"
   ]
  },
  {
   "cell_type": "markdown",
   "id": "78388787",
   "metadata": {},
   "source": [
    "# Empiezo de nuevo, ahora busco por elemento en vez de por caja"
   ]
  },
  {
   "cell_type": "markdown",
   "id": "7412d040",
   "metadata": {},
   "source": [
    "## NOMBRES"
   ]
  },
  {
   "cell_type": "code",
   "execution_count": 17,
   "id": "c0f6b789",
   "metadata": {},
   "outputs": [],
   "source": [
    "scrap_nombres=driver.find_elements(By.XPATH, '//h3//a')"
   ]
  },
  {
   "cell_type": "code",
   "execution_count": 18,
   "id": "d9ac424d",
   "metadata": {},
   "outputs": [
    {
     "name": "stdout",
     "output_type": "stream",
     "text": [
      "0 \n",
      "1 \n",
      "2 Outlet TV LG SIGNATURE 8K OLED , 222cm (88\")\n",
      "3 \n",
      "4 \n",
      "5 \n",
      "6 Outlet TV LG OLED 4K de 65'' B3, Procesador Gran...\n",
      "7 \n",
      "8 \n",
      "9 \n",
      "10 Outlet TV LG 4K OLED evo, GALLERY, 164cm (65\")\n",
      "11 \n",
      "12 \n",
      "13 \n",
      "14 Outlet TV LG 4K OLED evo, SmartTV, 122 cm (48\")\n",
      "15 \n",
      "16 \n",
      "17 \n",
      "18 Outlet TV LG 4K OLED EVO, SmartTV, 120 cm (48\")\n",
      "19 \n",
      "20 \n",
      "21 \n",
      "22 Outlet TV LG OLED evo 4K de 55'' C3, Procesador...\n",
      "23 \n",
      "24 \n",
      "25 \n",
      "26 Outlet TV LG 4K OLED evo, GALLERY, 139cm (55\")\n",
      "27 \n",
      "28 \n",
      "29 \n",
      "30 Outlet TV LG OLED evo 4K de 77'' G3, Procesador...\n",
      "31 \n",
      "32 \n",
      "33 \n",
      "34 Outlet Mando universal para televisores LG por...\n",
      "35 \n"
     ]
    }
   ],
   "source": [
    "n=-1\n",
    "for i in scrap_nombres:\n",
    "    n+=1\n",
    "    print (n, i.text)"
   ]
  },
  {
   "cell_type": "markdown",
   "id": "e3529aac",
   "metadata": {},
   "source": [
    "**Analizo los elementos vacíos scrapeados.**\n",
    "\n",
    "**Ahora elimino los elementos vacíos y paso el texto a minúsculas:**"
   ]
  },
  {
   "cell_type": "code",
   "execution_count": 19,
   "id": "f01c095b",
   "metadata": {},
   "outputs": [
    {
     "data": {
      "text/plain": [
       "['outlet tv lg signature 8k oled , 222cm (88\")',\n",
       " \"outlet tv lg oled 4k de 65'' b3, procesador gran...\",\n",
       " 'outlet tv lg 4k oled evo, gallery, 164cm (65\")',\n",
       " 'outlet tv lg 4k oled evo, smarttv, 122 cm (48\")',\n",
       " 'outlet tv lg 4k oled evo, smarttv, 120 cm (48\")',\n",
       " \"outlet tv lg oled evo 4k de 55'' c3, procesador...\",\n",
       " 'outlet tv lg 4k oled evo, gallery, 139cm (55\")',\n",
       " \"outlet tv lg oled evo 4k de 77'' g3, procesador...\",\n",
       " 'outlet mando universal para televisores lg por...']"
      ]
     },
     "execution_count": 19,
     "metadata": {},
     "output_type": "execute_result"
    }
   ],
   "source": [
    "nombre=[]\n",
    "for i in scrap_nombres:\n",
    "    nombre.append(i.text.lower())\n",
    "    for e in nombre:\n",
    "        if e=='':\n",
    "            nombre.remove(e)\n",
    "    \n",
    "nombre"
   ]
  },
  {
   "cell_type": "markdown",
   "id": "e39a54d8",
   "metadata": {},
   "source": [
    "## ID"
   ]
  },
  {
   "cell_type": "code",
   "execution_count": 20,
   "id": "e68d0408",
   "metadata": {},
   "outputs": [],
   "source": [
    "url = 'https://www.tiendalgonline.com/oled-tv-lg-outlet/'\n",
    "driver.get(url)"
   ]
  },
  {
   "cell_type": "code",
   "execution_count": 21,
   "id": "d4c2e77d",
   "metadata": {},
   "outputs": [],
   "source": [
    "scrap_ids=driver.find_elements(By.CLASS_NAME, 'referencia.grey-regular')"
   ]
  },
  {
   "cell_type": "code",
   "execution_count": 22,
   "id": "fca1b244",
   "metadata": {},
   "outputs": [
    {
     "name": "stdout",
     "output_type": "stream",
     "text": [
      "0 OLED88Z29LA.AEU\n",
      "1 \n",
      "2 OLED65B36LA.AEUD\n",
      "3 \n",
      "4 OLED65G26LA.AEU\n",
      "5 \n",
      "6 OLED48C25LB.AEU\n",
      "7 \n",
      "8 OLED48C25LA.AEU\n",
      "9 \n",
      "10 OLED55C34LA.AEUD\n",
      "11 \n",
      "12 OLED55G26LA.AEU\n",
      "13 \n",
      "14 OLED77G36LA.AEU\n",
      "15 \n",
      "16 SR23GA.AEU\n",
      "17 \n"
     ]
    }
   ],
   "source": [
    "n=-1\n",
    "for i in scrap_ids:\n",
    "    n+=1\n",
    "    print (n, i.text)"
   ]
  },
  {
   "cell_type": "code",
   "execution_count": 23,
   "id": "52cbcea4",
   "metadata": {},
   "outputs": [
    {
     "data": {
      "text/plain": [
       "['oled88z29la.aeu',\n",
       " 'oled65b36la.aeud',\n",
       " 'oled65g26la.aeu',\n",
       " 'oled48c25lb.aeu',\n",
       " 'oled48c25la.aeu',\n",
       " 'oled55c34la.aeud',\n",
       " 'oled55g26la.aeu',\n",
       " 'oled77g36la.aeu',\n",
       " 'sr23ga.aeu']"
      ]
     },
     "execution_count": 23,
     "metadata": {},
     "output_type": "execute_result"
    }
   ],
   "source": [
    "id=[]\n",
    "for i in scrap_ids:\n",
    "    id.append(i.text.lower())\n",
    "    for e in id:\n",
    "        if e=='':\n",
    "            id.remove(e)\n",
    "id"
   ]
  },
  {
   "cell_type": "markdown",
   "id": "d3de09da",
   "metadata": {},
   "source": [
    "## ORIGINAL PRICES"
   ]
  },
  {
   "cell_type": "code",
   "execution_count": 24,
   "id": "5e6215fb",
   "metadata": {},
   "outputs": [],
   "source": [
    "scrap_orig_p=driver.find_elements(By.CLASS_NAME, 'price.product-price.old-price.light-grey2-regular')"
   ]
  },
  {
   "cell_type": "code",
   "execution_count": 25,
   "id": "bd7170f6",
   "metadata": {},
   "outputs": [
    {
     "name": "stdout",
     "output_type": "stream",
     "text": [
      "0 PVPR 24.999,00 €\n",
      "1 \n",
      "2 PVPR 2.699,00 €\n",
      "3 \n",
      "4 PVPR 3.299,00 €\n",
      "5 \n",
      "6 PVPR 1.599,00 €\n",
      "7 \n",
      "8 PVPR 1.599,00 €\n",
      "9 \n",
      "10 PVPR 2.199,00 €\n",
      "11 \n",
      "12 PVPR 2.299,00 €\n",
      "13 \n",
      "14 PVPR 5.199,00 €\n",
      "15 \n"
     ]
    }
   ],
   "source": [
    "n=-1\n",
    "for i in scrap_orig_p:\n",
    "    n+=1\n",
    "    print (n, i.text)"
   ]
  },
  {
   "cell_type": "code",
   "execution_count": 26,
   "id": "6aa13cf6",
   "metadata": {},
   "outputs": [
    {
     "data": {
      "text/plain": [
       "['PVPR 24.999,00 €',\n",
       " 'PVPR 2.699,00 €',\n",
       " 'PVPR 3.299,00 €',\n",
       " 'PVPR 1.599,00 €',\n",
       " 'PVPR 1.599,00 €',\n",
       " 'PVPR 2.199,00 €',\n",
       " 'PVPR 2.299,00 €',\n",
       " 'PVPR 5.199,00 €']"
      ]
     },
     "execution_count": 26,
     "metadata": {},
     "output_type": "execute_result"
    }
   ],
   "source": [
    "price=[]\n",
    "for i in scrap_orig_p:\n",
    "    price.append(i.text)\n",
    "    for e in price:\n",
    "        if e=='':\n",
    "            price.remove(e)\n",
    "price"
   ]
  },
  {
   "cell_type": "code",
   "execution_count": 27,
   "id": "ff35575d",
   "metadata": {},
   "outputs": [
    {
     "name": "stdout",
     "output_type": "stream",
     "text": [
      "[24999.0, 2699.0, 3299.0, 1599.0, 1599.0, 2199.0, 2299.0, 5199.0]\n"
     ]
    }
   ],
   "source": [
    "patron=r'(\\d[\\d,.]+)'\n",
    "for i in range(len(price)):\n",
    "    if isinstance(price[i], str):\n",
    "        numeros_encontrados = re.findall(patron, price[i])\n",
    "        if numeros_encontrados:\n",
    "            numero_con_puntos = numeros_encontrados[0]\n",
    "            numero_con_comas = numero_con_puntos.replace('.', '').replace(',', '.')\n",
    "            price[i] = float(numero_con_comas)\n",
    "\n",
    "print(price)"
   ]
  },
  {
   "cell_type": "code",
   "execution_count": 28,
   "id": "08707438",
   "metadata": {},
   "outputs": [],
   "source": [
    "#me falta añadir if len(outletprices)!=len(prices) añademe un elemento a prices con el precio de outlet. \n",
    "#Problema: siempre están al final los productos que no están en tienda? o sea, que no tienen price?"
   ]
  },
  {
   "cell_type": "markdown",
   "id": "b4504ec3",
   "metadata": {},
   "source": [
    "## OUTLET PRICES"
   ]
  },
  {
   "cell_type": "code",
   "execution_count": 29,
   "id": "470c1485",
   "metadata": {},
   "outputs": [],
   "source": [
    "scrap_out_p=driver.find_elements(By.CLASS_NAME, 'price.product-price.final-price.orange-bold')"
   ]
  },
  {
   "cell_type": "code",
   "execution_count": 30,
   "id": "85b464ad",
   "metadata": {},
   "outputs": [
    {
     "name": "stdout",
     "output_type": "stream",
     "text": [
      "0 10.999,00 €\n",
      "1 10.999,00 €\n",
      "2 \n",
      "3 \n",
      "4 1.529,01 €\n",
      "5 1.529,01 €\n",
      "6 \n",
      "7 \n",
      "8 1.899,00 €\n",
      "9 1.899,00 €\n",
      "10 \n",
      "11 \n",
      "12 939,11 €\n",
      "13 939,11 €\n",
      "14 \n",
      "15 \n",
      "16 938,68 €\n",
      "17 938,68 €\n",
      "18 \n",
      "19 \n",
      "20 1.319,00 €\n",
      "21 1.319,00 €\n",
      "22 \n",
      "23 \n",
      "24 1.479,00 €\n",
      "25 1.479,00 €\n",
      "26 \n",
      "27 \n",
      "28 3.419,00 €\n",
      "29 3.419,00 €\n",
      "30 \n",
      "31 \n"
     ]
    }
   ],
   "source": [
    "n=-1\n",
    "for i in scrap_out_p:\n",
    "    n+=1\n",
    "    print (n, i.text)"
   ]
  },
  {
   "cell_type": "code",
   "execution_count": 31,
   "id": "1b270645",
   "metadata": {},
   "outputs": [],
   "source": [
    "n = -1\n",
    "i = 0\n",
    "while i < len(scrap_out_p) - 1:\n",
    "    n += 1\n",
    "    elemento_actual = scrap_out_p[i].text.strip()\n",
    "    elemento_siguiente = scrap_out_p[i + 1].text.strip()\n",
    "\n",
    "    if elemento_actual == elemento_siguiente:\n",
    "        scrap_out_p.pop(i + 1) \n",
    "    else:\n",
    "        i += 1 \n"
   ]
  },
  {
   "cell_type": "code",
   "execution_count": 32,
   "id": "c53c35b1",
   "metadata": {},
   "outputs": [
    {
     "name": "stdout",
     "output_type": "stream",
     "text": [
      "0 10.999,00 €\n",
      "1 \n",
      "2 1.529,01 €\n",
      "3 \n",
      "4 1.899,00 €\n",
      "5 \n",
      "6 939,11 €\n",
      "7 \n",
      "8 938,68 €\n",
      "9 \n",
      "10 1.319,00 €\n",
      "11 \n",
      "12 1.479,00 €\n",
      "13 \n",
      "14 3.419,00 €\n",
      "15 \n"
     ]
    }
   ],
   "source": [
    "n=-1\n",
    "for i in scrap_out_p:\n",
    "    n+=1\n",
    "    print (n, i.text)"
   ]
  },
  {
   "cell_type": "code",
   "execution_count": 33,
   "id": "94b27af6",
   "metadata": {},
   "outputs": [
    {
     "data": {
      "text/plain": [
       "['10.999,00 €',\n",
       " '1.529,01 €',\n",
       " '1.899,00 €',\n",
       " '939,11 €',\n",
       " '938,68 €',\n",
       " '1.319,00 €',\n",
       " '1.479,00 €',\n",
       " '3.419,00 €']"
      ]
     },
     "execution_count": 33,
     "metadata": {},
     "output_type": "execute_result"
    }
   ],
   "source": [
    "outlet_price=[]\n",
    "for i in scrap_out_p:\n",
    "    outlet_price.append(i.text)\n",
    "    for e in outlet_price:\n",
    "        if e=='':\n",
    "            outlet_price.remove(e)\n",
    "outlet_price"
   ]
  },
  {
   "cell_type": "code",
   "execution_count": 34,
   "id": "107105cb",
   "metadata": {},
   "outputs": [
    {
     "name": "stdout",
     "output_type": "stream",
     "text": [
      "[10999.0, 1529.01, 1899.0, 939.11, 938.68, 1319.0, 1479.0, 3419.0]\n"
     ]
    }
   ],
   "source": [
    "patron=r'(\\d[\\d,.]+)'\n",
    "for i in range(len(outlet_price)):\n",
    "    if isinstance(outlet_price[i], str):\n",
    "        numeros_encontrados = re.findall(patron, outlet_price[i])\n",
    "        if numeros_encontrados:\n",
    "            numero_con_puntos = numeros_encontrados[0]\n",
    "            numero_con_comas = numero_con_puntos.replace('.', '').replace(',', '.')\n",
    "            outlet_price[i] = float(numero_con_comas)\n",
    "print(outlet_price)"
   ]
  },
  {
   "cell_type": "markdown",
   "id": "fef77fa5",
   "metadata": {},
   "source": [
    "## UNIQUE PRICES"
   ]
  },
  {
   "cell_type": "code",
   "execution_count": 35,
   "id": "cc4faa1f",
   "metadata": {},
   "outputs": [],
   "source": [
    "#¿Qué sucede? Que los productos que solo tienen un precio en outlet están en otra clase. \n",
    "#Entonces voy a crear una lista con ese scraping y de ahi los añadere a la lista de price y outlet_price"
   ]
  },
  {
   "cell_type": "code",
   "execution_count": 36,
   "id": "1f684e7c",
   "metadata": {},
   "outputs": [],
   "source": [
    "scrap_unique_p=driver.find_elements(By.CLASS_NAME, 'price.product-price.final-price.red-bold')"
   ]
  },
  {
   "cell_type": "code",
   "execution_count": 37,
   "id": "32f9bcc0",
   "metadata": {},
   "outputs": [
    {
     "name": "stdout",
     "output_type": "stream",
     "text": [
      "0 PVPR 9,87 €\n",
      "1 PVPR 9,87 €\n",
      "2 \n",
      "3 \n"
     ]
    }
   ],
   "source": [
    "n=-1\n",
    "for i in scrap_unique_p:\n",
    "    n+=1\n",
    "    print (n, i.text)"
   ]
  },
  {
   "cell_type": "code",
   "execution_count": 38,
   "id": "7185b8ae",
   "metadata": {},
   "outputs": [],
   "source": [
    "n = -1\n",
    "i = 0\n",
    "while i < len(scrap_unique_p) - 1:\n",
    "    n += 1\n",
    "    elemento_actual = scrap_unique_p[i].text.strip()\n",
    "    elemento_siguiente = scrap_unique_p[i + 1].text.strip()\n",
    "\n",
    "    if elemento_actual == elemento_siguiente:\n",
    "        scrap_unique_p.pop(i + 1) \n",
    "    else:\n",
    "        i += 1 "
   ]
  },
  {
   "cell_type": "code",
   "execution_count": 39,
   "id": "67dc7e87",
   "metadata": {},
   "outputs": [
    {
     "name": "stdout",
     "output_type": "stream",
     "text": [
      "0 PVPR 9,87 €\n",
      "1 \n"
     ]
    }
   ],
   "source": [
    "n=-1\n",
    "for i in scrap_unique_p:\n",
    "    n+=1\n",
    "    print (n, i.text)"
   ]
  },
  {
   "cell_type": "code",
   "execution_count": 40,
   "id": "ff147c73",
   "metadata": {},
   "outputs": [
    {
     "data": {
      "text/plain": [
       "['PVPR 9,87 €']"
      ]
     },
     "execution_count": 40,
     "metadata": {},
     "output_type": "execute_result"
    }
   ],
   "source": [
    "unique_price=[]\n",
    "for i in scrap_unique_p:\n",
    "    unique_price.append(i.text)\n",
    "    for e in unique_price:\n",
    "        if e=='':\n",
    "            unique_price.remove(e)\n",
    "unique_price"
   ]
  },
  {
   "cell_type": "code",
   "execution_count": 41,
   "id": "8ea4c1cd",
   "metadata": {},
   "outputs": [
    {
     "name": "stdout",
     "output_type": "stream",
     "text": [
      "[9.87]\n"
     ]
    }
   ],
   "source": [
    "patron=r'(\\d[\\d,.]+)'\n",
    "for i in range(len(unique_price)):\n",
    "    if isinstance(unique_price[i], str):\n",
    "        numeros_encontrados = re.findall(patron, unique_price[i])\n",
    "        if numeros_encontrados:\n",
    "            numero_con_puntos = numeros_encontrados[0]\n",
    "            numero_con_comas = numero_con_puntos.replace('.', '').replace(',', '.')\n",
    "            unique_price[i] = float(numero_con_comas)\n",
    "print(unique_price)"
   ]
  },
  {
   "cell_type": "markdown",
   "id": "1a63e966",
   "metadata": {},
   "source": [
    "### Añado 'Unique Price' a 'Outlet Price'"
   ]
  },
  {
   "cell_type": "code",
   "execution_count": 42,
   "id": "8a812507",
   "metadata": {},
   "outputs": [
    {
     "data": {
      "text/plain": [
       "[10999.0, 1529.01, 1899.0, 939.11, 938.68, 1319.0, 1479.0, 3419.0, 9.87]"
      ]
     },
     "execution_count": 42,
     "metadata": {},
     "output_type": "execute_result"
    }
   ],
   "source": [
    "outlet_price=outlet_price+unique_price\n",
    "outlet_price"
   ]
  },
  {
   "cell_type": "markdown",
   "id": "0190c2cb",
   "metadata": {},
   "source": [
    "### Añado a 'Outlet Price' valores 'NaN' según los productos que unicamente tienen 'Outlet Price'"
   ]
  },
  {
   "cell_type": "code",
   "execution_count": 43,
   "id": "4c16ea1a",
   "metadata": {},
   "outputs": [
    {
     "data": {
      "text/plain": [
       "[nan]"
      ]
     },
     "execution_count": 43,
     "metadata": {},
     "output_type": "execute_result"
    }
   ],
   "source": [
    "price_nan=[]\n",
    "for i in range(len(unique_price)):\n",
    "    price_nan.append(np.nan)\n",
    "price_nan"
   ]
  },
  {
   "cell_type": "code",
   "execution_count": 44,
   "id": "e81c3a13",
   "metadata": {},
   "outputs": [],
   "source": [
    "price=price+price_nan"
   ]
  },
  {
   "cell_type": "code",
   "execution_count": 45,
   "id": "84263a8b",
   "metadata": {},
   "outputs": [
    {
     "data": {
      "text/plain": [
       "[24999.0, 2699.0, 3299.0, 1599.0, 1599.0, 2199.0, 2299.0, 5199.0, nan]"
      ]
     },
     "execution_count": 45,
     "metadata": {},
     "output_type": "execute_result"
    }
   ],
   "source": [
    "price"
   ]
  },
  {
   "cell_type": "markdown",
   "id": "d3eb5cda",
   "metadata": {},
   "source": [
    "## DESCUENTOS"
   ]
  },
  {
   "cell_type": "code",
   "execution_count": 47,
   "id": "f0370188",
   "metadata": {},
   "outputs": [
    {
     "data": {
      "text/plain": [
       "[56, 43, 42, 41, 41, 40, 36, 34, nan]"
      ]
     },
     "execution_count": 47,
     "metadata": {},
     "output_type": "execute_result"
    }
   ],
   "source": [
    "descuentos = []\n",
    "for price_value, outlet_price_value in zip(price, outlet_price):\n",
    "    if not math.isnan(price_value) and not math.isnan(outlet_price_value):\n",
    "        descuento = (1 - (outlet_price_value / price_value)) * 100\n",
    "        descuentos.append(round(descuento))\n",
    "    else:\n",
    "        descuentos.append(np.nan)\n",
    "descuentos"
   ]
  },
  {
   "cell_type": "markdown",
   "id": "0ceaeb04",
   "metadata": {},
   "source": [
    "## DICCIONARIO DE LG"
   ]
  },
  {
   "cell_type": "code",
   "execution_count": 50,
   "id": "8fa2871f",
   "metadata": {},
   "outputs": [],
   "source": [
    "lg=pd.DataFrame({'id':id, 'nombre':nombre, 'precio':price, 'precio_outlet':outlet_price, 'descuento': descuentos})"
   ]
  },
  {
   "cell_type": "code",
   "execution_count": 51,
   "id": "966ebc55",
   "metadata": {},
   "outputs": [
    {
     "data": {
      "text/html": [
       "<div>\n",
       "<style scoped>\n",
       "    .dataframe tbody tr th:only-of-type {\n",
       "        vertical-align: middle;\n",
       "    }\n",
       "\n",
       "    .dataframe tbody tr th {\n",
       "        vertical-align: top;\n",
       "    }\n",
       "\n",
       "    .dataframe thead th {\n",
       "        text-align: right;\n",
       "    }\n",
       "</style>\n",
       "<table border=\"1\" class=\"dataframe\">\n",
       "  <thead>\n",
       "    <tr style=\"text-align: right;\">\n",
       "      <th></th>\n",
       "      <th>id</th>\n",
       "      <th>nombre</th>\n",
       "      <th>precio</th>\n",
       "      <th>precio_outlet</th>\n",
       "      <th>descuento</th>\n",
       "    </tr>\n",
       "  </thead>\n",
       "  <tbody>\n",
       "    <tr>\n",
       "      <th>0</th>\n",
       "      <td>oled88z29la.aeu</td>\n",
       "      <td>outlet tv lg signature 8k oled , 222cm (88\")</td>\n",
       "      <td>24999.0</td>\n",
       "      <td>10999.00</td>\n",
       "      <td>56.0</td>\n",
       "    </tr>\n",
       "    <tr>\n",
       "      <th>1</th>\n",
       "      <td>oled65b36la.aeud</td>\n",
       "      <td>outlet tv lg oled 4k de 65'' b3, procesador gr...</td>\n",
       "      <td>2699.0</td>\n",
       "      <td>1529.01</td>\n",
       "      <td>43.0</td>\n",
       "    </tr>\n",
       "    <tr>\n",
       "      <th>2</th>\n",
       "      <td>oled65g26la.aeu</td>\n",
       "      <td>outlet tv lg 4k oled evo, gallery, 164cm (65\")</td>\n",
       "      <td>3299.0</td>\n",
       "      <td>1899.00</td>\n",
       "      <td>42.0</td>\n",
       "    </tr>\n",
       "    <tr>\n",
       "      <th>3</th>\n",
       "      <td>oled48c25lb.aeu</td>\n",
       "      <td>outlet tv lg 4k oled evo, smarttv, 122 cm (48\")</td>\n",
       "      <td>1599.0</td>\n",
       "      <td>939.11</td>\n",
       "      <td>41.0</td>\n",
       "    </tr>\n",
       "    <tr>\n",
       "      <th>4</th>\n",
       "      <td>oled48c25la.aeu</td>\n",
       "      <td>outlet tv lg 4k oled evo, smarttv, 120 cm (48\")</td>\n",
       "      <td>1599.0</td>\n",
       "      <td>938.68</td>\n",
       "      <td>41.0</td>\n",
       "    </tr>\n",
       "    <tr>\n",
       "      <th>5</th>\n",
       "      <td>oled55c34la.aeud</td>\n",
       "      <td>outlet tv lg oled evo 4k de 55'' c3, procesado...</td>\n",
       "      <td>2199.0</td>\n",
       "      <td>1319.00</td>\n",
       "      <td>40.0</td>\n",
       "    </tr>\n",
       "    <tr>\n",
       "      <th>6</th>\n",
       "      <td>oled55g26la.aeu</td>\n",
       "      <td>outlet tv lg 4k oled evo, gallery, 139cm (55\")</td>\n",
       "      <td>2299.0</td>\n",
       "      <td>1479.00</td>\n",
       "      <td>36.0</td>\n",
       "    </tr>\n",
       "    <tr>\n",
       "      <th>7</th>\n",
       "      <td>oled77g36la.aeu</td>\n",
       "      <td>outlet tv lg oled evo 4k de 77'' g3, procesado...</td>\n",
       "      <td>5199.0</td>\n",
       "      <td>3419.00</td>\n",
       "      <td>34.0</td>\n",
       "    </tr>\n",
       "    <tr>\n",
       "      <th>8</th>\n",
       "      <td>sr23ga.aeu</td>\n",
       "      <td>outlet mando universal para televisores lg por...</td>\n",
       "      <td>NaN</td>\n",
       "      <td>9.87</td>\n",
       "      <td>NaN</td>\n",
       "    </tr>\n",
       "  </tbody>\n",
       "</table>\n",
       "</div>"
      ],
      "text/plain": [
       "                 id                                             nombre  \\\n",
       "0   oled88z29la.aeu       outlet tv lg signature 8k oled , 222cm (88\")   \n",
       "1  oled65b36la.aeud  outlet tv lg oled 4k de 65'' b3, procesador gr...   \n",
       "2   oled65g26la.aeu     outlet tv lg 4k oled evo, gallery, 164cm (65\")   \n",
       "3   oled48c25lb.aeu    outlet tv lg 4k oled evo, smarttv, 122 cm (48\")   \n",
       "4   oled48c25la.aeu    outlet tv lg 4k oled evo, smarttv, 120 cm (48\")   \n",
       "5  oled55c34la.aeud  outlet tv lg oled evo 4k de 55'' c3, procesado...   \n",
       "6   oled55g26la.aeu     outlet tv lg 4k oled evo, gallery, 139cm (55\")   \n",
       "7   oled77g36la.aeu  outlet tv lg oled evo 4k de 77'' g3, procesado...   \n",
       "8        sr23ga.aeu  outlet mando universal para televisores lg por...   \n",
       "\n",
       "    precio  precio_outlet  descuento  \n",
       "0  24999.0       10999.00       56.0  \n",
       "1   2699.0        1529.01       43.0  \n",
       "2   3299.0        1899.00       42.0  \n",
       "3   1599.0         939.11       41.0  \n",
       "4   1599.0         938.68       41.0  \n",
       "5   2199.0        1319.00       40.0  \n",
       "6   2299.0        1479.00       36.0  \n",
       "7   5199.0        3419.00       34.0  \n",
       "8      NaN           9.87        NaN  "
      ]
     },
     "execution_count": 51,
     "metadata": {},
     "output_type": "execute_result"
    }
   ],
   "source": [
    "lg"
   ]
  },
  {
   "cell_type": "code",
   "execution_count": null,
   "id": "7d12510c",
   "metadata": {},
   "outputs": [],
   "source": []
  }
 ],
 "metadata": {
  "kernelspec": {
   "display_name": "Python 3 (ipykernel)",
   "language": "python",
   "name": "python3"
  },
  "language_info": {
   "codemirror_mode": {
    "name": "ipython",
    "version": 3
   },
   "file_extension": ".py",
   "mimetype": "text/x-python",
   "name": "python",
   "nbconvert_exporter": "python",
   "pygments_lexer": "ipython3",
   "version": "3.11.4"
  }
 },
 "nbformat": 4,
 "nbformat_minor": 5
}
